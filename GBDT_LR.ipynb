{
  "nbformat": 4,
  "nbformat_minor": 0,
  "metadata": {
    "colab": {
      "name": "GBDT.ipynb",
      "provenance": [],
      "authorship_tag": "ABX9TyP8sSSKy+FqAPHTLbL8IN9H",
      "include_colab_link": true
    },
    "kernelspec": {
      "name": "python3",
      "display_name": "Python 3"
    },
    "language_info": {
      "name": "python"
    }
  },
  "cells": [
    {
      "cell_type": "markdown",
      "metadata": {
        "id": "view-in-github",
        "colab_type": "text"
      },
      "source": [
        "<a href=\"https://colab.research.google.com/github/Beloveddream/RS/blob/main/GBDT_LR.ipynb\" target=\"_parent\"><img src=\"https://colab.research.google.com/assets/colab-badge.svg\" alt=\"Open In Colab\"/></a>"
      ]
    },
    {
      "cell_type": "code",
      "metadata": {
        "colab": {
          "base_uri": "https://localhost:8080/"
        },
        "id": "ctOrwWs8nD7I",
        "outputId": "ae78e57d-c36a-4798-ec94-606f3074c5ca"
      },
      "source": [
        "from sklearn import datasets\n",
        "from sklearn.ensemble import GradientBoostingClassifier\n",
        "from sklearn.model_selection import cross_val_score\n",
        "iris = datasets.load_iris()\n",
        "X = iris.data\n",
        "y = iris.target\n",
        "# 使用GBDT进行分类\n",
        "clf = GradientBoostingClassifier(n_estimators=50, learning_rate=1.0,max_depth=1, random_state=0)\n",
        "scores = cross_val_score(clf, X, y, cv=3)\n",
        "print('GBDT准确率：%0.4lf' %scores.mean())"
      ],
      "execution_count": 3,
      "outputs": [
        {
          "output_type": "stream",
          "text": [
            "GBDT准确率：0.9533\n"
          ],
          "name": "stdout"
        }
      ]
    },
    {
      "cell_type": "code",
      "metadata": {
        "id": "EL7Lgy6nnTMj"
      },
      "source": [
        "import numpy as np\n",
        "import matplotlib.pyplot as plt\n",
        "from sklearn.metrics import mean_squared_error\n",
        "from sklearn.datasets import load_boston\n",
        "from sklearn.ensemble import GradientBoostingRegressor\n",
        "from sklearn.utils import shuffle\n",
        "from sklearn.model_selection import train_test_split"
      ],
      "execution_count": 4,
      "outputs": []
    },
    {
      "cell_type": "code",
      "metadata": {
        "colab": {
          "base_uri": "https://localhost:8080/",
          "height": 349
        },
        "id": "jRTZq8yynXCY",
        "outputId": "734e9221-8ea4-48bb-d440-32ad53b37366"
      },
      "source": [
        "# 波士顿房价回归数据集\n",
        "boston = load_boston()  \n",
        "# 划分训练集和测试集\n",
        "X_train, X_test, y_train, y_test = train_test_split(boston.data, boston.target, test_size=0.1, random_state=0)  \n",
        "clf = GradientBoostingRegressor(n_estimators=500, learning_rate=0.01,max_depth=4,min_samples_split=2,loss='ls')\n",
        "clf.fit(X_train, y_train)\n",
        "print('GBDT回归MSE：',mean_squared_error(y_test, clf.predict(X_test)))\n",
        "#print('每次训练的得分记录：',clf.train_score_)\n",
        "print('各特征的重要程度：',clf.feature_importances_)\n",
        "# 每次训练，增加新的CART树，带来的训练得分变化\n",
        "# train_score_:表示在样本集上每次迭代以后的对应的损失函数值。\n",
        "plt.plot(np.arange(500), clf.train_score_, 'b-')  \n",
        "#print(clf.train_score_)\n",
        "plt.show()"
      ],
      "execution_count": 7,
      "outputs": [
        {
          "output_type": "stream",
          "text": [
            "GBDT回归MSE： 24.92726204905266\n",
            "各特征的重要程度： [2.79949993e-02 1.32028383e-04 4.15277421e-03 1.78883090e-04\n",
            " 3.29019992e-02 4.88428691e-01 1.09139499e-02 3.85035426e-02\n",
            " 1.97343033e-03 1.63695475e-02 2.98192492e-02 1.00625689e-02\n",
            " 3.38568337e-01]\n"
          ],
          "name": "stdout"
        },
        {
          "output_type": "display_data",
          "data": {
            "image/png": "[encoded data removed]",
            "text/plain": [
              "<Figure size 432x288 with 1 Axes>"
            ]
          },
          "metadata": {
            "tags": [],
            "needs_background": "light"
          }
        }
      ]
    },
    {
      "cell_type": "markdown",
      "metadata": {
        "id": "AsxlIeuIrsGC"
      },
      "source": [
        "**GBDT_LR**"
      ]
    },
    {
      "cell_type": "code",
      "metadata": {
        "id": "ze0Kr3JxrjYZ"
      },
      "source": [
        "import numpy as np\n",
        "np.random.seed(10)\n",
        "import matplotlib.pyplot as plt\n",
        "from sklearn.datasets import make_classification\n",
        "from sklearn.linear_model import LogisticRegression\n",
        "from sklearn.ensemble import RandomTreesEmbedding, RandomForestClassifier, GradientBoostingClassifier, GradientBoostingRegressor\n",
        "from sklearn.preprocessing import OneHotEncoder\n",
        "from sklearn.model_selection import train_test_split\n",
        "from sklearn.metrics import roc_curve\n",
        "from sklearn.metrics import roc_auc_score\n",
        "from sklearn.pipeline import make_pipeline"
      ],
      "execution_count": 15,
      "outputs": []
    },
    {
      "cell_type": "code",
      "metadata": {
        "id": "xvEs0L8rrI9U"
      },
      "source": [
        "n_estimator = 10\n",
        "# 生成样本集\n",
        "X, y = make_classification(n_samples=80000, n_features=20)\n",
        "#print(X)\n",
        "# 将样本集分成测试集和训练集\n",
        "X_train, X_test, y_train, y_test = train_test_split(X, y, test_size=0.5)\n",
        "# 再将训练集拆成两个部分（GBDT/RF，LR）\n",
        "X_train, X_train_lr, y_train, y_train_lr = train_test_split(X_train, y_train, test_size=0.5)"
      ],
      "execution_count": 22,
      "outputs": []
    },
    {
      "cell_type": "code",
      "metadata": {
        "id": "v2LiHjsUr5En"
      },
      "source": [
        "# 基于随机森林的监督变换\n",
        "rf = RandomForestClassifier(max_depth=3, n_estimators=n_estimator)\n",
        "rf.fit(X_train, y_train)\n",
        "# 得到OneHot编码\n",
        "rf_enc = OneHotEncoder(categories='auto')\n",
        "rf_enc.fit(rf.apply(X_train))\n",
        "# 使用OneHot编码作为特征，训练LR\n",
        "rf_lm = LogisticRegression(solver='lbfgs', max_iter=1000)\n",
        "rf_lm.fit(rf_enc.transform(rf.apply(X_train_lr)), y_train_lr)\n",
        "# 使用LR进行预测\n",
        "y_pred_rf_lm = rf_lm.predict_proba(rf_enc.transform(rf.apply(X_test)))[:, 1]\n",
        "fpr_rf_lm, tpr_rf_lm, _ = roc_curve(y_test, y_pred_rf_lm)"
      ],
      "execution_count": 20,
      "outputs": []
    },
    {
      "cell_type": "code",
      "metadata": {
        "colab": {
          "base_uri": "https://localhost:8080/"
        },
        "id": "y2FGhpTqsBBf",
        "outputId": "409c2f0b-245c-4f83-a36d-4beaf26b43a3"
      },
      "source": [
        "# 基于GBDT监督变换\n",
        "grd = GradientBoostingClassifier(n_estimators=n_estimator)\n",
        "grd.fit(X_train, y_train)\n",
        "# 得到OneHot编码\n",
        "grd_enc = OneHotEncoder(categories='auto')\n",
        "\n",
        "#temp = grd.apply(X_train)\n",
        "np.set_printoptions(threshold=np.inf)  \n",
        "grd_enc.fit(grd.apply(X_train)[:, :, 0])\n",
        "#print(grd_enc.get_feature_names()) # 查看每一列对应的特征\n",
        "# 使用OneHot编码作为特征，训练LR\n",
        "grd_lm = LogisticRegression(solver='lbfgs', max_iter=1000)\n",
        "grd_lm.fit(grd_enc.transform(grd.apply(X_train_lr)[:, :, 0]), y_train_lr)\n",
        "# 使用LR进行预测\n",
        "y_pred_grd_lm = grd_lm.predict_proba(grd_enc.transform(grd.apply(X_test)[:, :, 0]))[:, 1]\n",
        "fpr_grd_lm, tpr_grd_lm, _ = roc_curve(y_test, y_pred_grd_lm)\n",
        "auc = roc_auc_score(y_test, y_pred_grd_lm)\n",
        "print('GBDTLR: ', auc)"
      ],
      "execution_count": 26,
      "outputs": [
        {
          "output_type": "stream",
          "text": [
            "GBDTLR:  0.975663163666172\n"
          ],
          "name": "stdout"
        }
      ]
    },
    {
      "cell_type": "code",
      "metadata": {
        "colab": {
          "base_uri": "https://localhost:8080/"
        },
        "id": "I5yAPxDhsKH3",
        "outputId": "dd85db5b-20bb-40fb-a5eb-278e422bdb7d"
      },
      "source": [
        "# 直接使用GBDT进行预测\n",
        "y_pred_grd = grd.predict_proba(X_test)[:, 1]\n",
        "fpr_grd, tpr_grd, _ = roc_curve(y_test, y_pred_grd)\n",
        "\n",
        "# 直接使用RF进行预测\n",
        "y_pred_rf = rf.predict_proba(X_test)[:, 1]\n",
        "fpr_rf, tpr_rf, thresholds_skl = roc_curve(y_test, y_pred_rf)\n",
        "\n",
        "# 直接使用LR进行预测\n",
        "LR = LogisticRegression(n_jobs=4, C=0.1, penalty='l2')\n",
        "LR.fit(X_train, y_train)\n",
        "y_pred = LR.predict_proba(X_test)[:, 1]\n",
        "fpr_lr, tpr_lr, _ = roc_curve(y_test, y_pred)\n",
        "auc = roc_auc_score(y_test, y_pred)\n",
        "print('LogisticRegression: ', auc)"
      ],
      "execution_count": 24,
      "outputs": [
        {
          "output_type": "stream",
          "text": [
            "LogisticRegression:  0.9733413943265186\n"
          ],
          "name": "stdout"
        }
      ]
    },
    {
      "cell_type": "code",
      "metadata": {
        "colab": {
          "base_uri": "https://localhost:8080/",
          "height": 295
        },
        "id": "laf40TMxs06s",
        "outputId": "5707f629-4d45-4815-a6ca-0302154af261"
      },
      "source": [
        "# 将左上角放大显示\n",
        "plt.figure(2)\n",
        "plt.xlim(0, 0.2)\n",
        "plt.ylim(0.8, 1)\n",
        "plt.plot([0, 1], [0, 1], 'k--')\n",
        "plt.plot(fpr_lr, tpr_lr, label='LR')\n",
        "plt.plot(fpr_rf, tpr_rf, label='RF')\n",
        "plt.plot(fpr_rf_lm, tpr_rf_lm, label='RF + LR')\n",
        "plt.plot(fpr_grd, tpr_grd, label='GBT')\n",
        "plt.plot(fpr_grd_lm, tpr_grd_lm, label='GBT + LR')\n",
        "plt.xlabel('False Positive Rate')\n",
        "plt.ylabel('True Positive Rate')\n",
        "plt.title('ROC curve (zoomed)')\n",
        "plt.legend(loc='best')\n",
        "plt.show()"
      ],
      "execution_count": 14,
      "outputs": [
        {
          "output_type": "display_data",
          "data": {
            "image/png": "[encoded data removed]",
            "text/plain": [
              "<Figure size 432x288 with 1 Axes>"
            ]
          },
          "metadata": {
            "tags": [],
            "needs_background": "light"
          }
        }
      ]
    }
  ]
}