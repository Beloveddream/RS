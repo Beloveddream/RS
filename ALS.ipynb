{
  "nbformat": 4,
  "nbformat_minor": 0,
  "metadata": {
    "colab": {
      "name": "ALS.ipynb",
      "provenance": [],
      "authorship_tag": "ABX9TyO1mzbhHJgak5EcpJNRD63V",
      "include_colab_link": true
    },
    "kernelspec": {
      "name": "python3",
      "display_name": "Python 3"
    },
    "language_info": {
      "name": "python"
    }
  },
  "cells": [
    {
      "cell_type": "markdown",
      "metadata": {
        "id": "view-in-github",
        "colab_type": "text"
      },
      "source": [
        "<a href=\"https://colab.research.google.com/github/Beloveddream/RS/blob/main/ALS.ipynb\" target=\"_parent\"><img src=\"https://colab.research.google.com/assets/colab-badge.svg\" alt=\"Open In Colab\"/></a>"
      ]
    },
    {
      "cell_type": "code",
      "metadata": {
        "colab": {
          "base_uri": "https://localhost:8080/"
        },
        "id": "XPlirp3f4GU5",
        "outputId": "663186bb-f7f6-417c-a8af-b6261ead173c"
      },
      "source": [
        "from google.colab import drive\n",
        "drive.mount('/content/gdrive')"
      ],
      "execution_count": 9,
      "outputs": [
        {
          "output_type": "stream",
          "text": [
            "Drive already mounted at /content/gdrive; to attempt to forcibly remount, call drive.mount(\"/content/gdrive\", force_remount=True).\n"
          ],
          "name": "stdout"
        }
      ]
    },
    {
      "cell_type": "code",
      "metadata": {
        "id": "lH2Z64bQ412p"
      },
      "source": [
        "# 使用ALS进行矩阵分解\n",
        "from itertools import product, chain\n",
        "from copy import deepcopy"
      ],
      "execution_count": 2,
      "outputs": []
    },
    {
      "cell_type": "code",
      "metadata": {
        "id": "YkgohceX5MZI"
      },
      "source": [
        "class Matrix(object):\n",
        "    def __init__(self, data):\n",
        "        self.data = data\n",
        "        self.shape = (len(data), len(data[0]))\n",
        "\n",
        "    def row(self, row_no):\n",
        "        \"\"\"Get a row of the matrix.\n",
        "        Arguments:\n",
        "            row_no {int} -- Row number of the matrix.\n",
        "        Returns:\n",
        "            Matrix\n",
        "        \"\"\"\n",
        "\n",
        "        return Matrix([self.data[row_no]])\n",
        "\n",
        "    def col(self, col_no):\n",
        "        \"\"\"Get a column of the matrix.\n",
        "        Arguments:\n",
        "            col_no {int} -- Column number of the matrix.\n",
        "        Returns:\n",
        "            Matrix\n",
        "        \"\"\"\n",
        "        m = self.shape[0]\n",
        "        return Matrix([[self.data[i][col_no]] for i in range(m)])\n",
        "\n",
        "    @property\n",
        "    def is_square(self):\n",
        "        \"\"\"Check if the matrix is a square matrix.\n",
        "        Returns:\n",
        "            bool\n",
        "        \"\"\"\n",
        "\n",
        "        return self.shape[0] == self.shape[1]\n",
        "\n",
        "    @property\n",
        "    def transpose(self):\n",
        "        \"\"\"Find the transpose of the original matrix.\n",
        "        Returns:\n",
        "            Matrix\n",
        "        \"\"\"\n",
        "\n",
        "        data = list(map(list, zip(*self.data)))\n",
        "        return Matrix(data)\n",
        "\n",
        "    def _eye(self, n):\n",
        "        \"\"\"Get a unit matrix with shape (n, n).\n",
        "        Arguments:\n",
        "            n {int} -- Rank of unit matrix.\n",
        "        Returns:\n",
        "            list\n",
        "        \"\"\"\n",
        "\n",
        "        return [[0 if i != j else 1 for j in range(n)] for i in range(n)]\n",
        "\n",
        "    @property\n",
        "    def eye(self):\n",
        "        \"\"\"Get a unit matrix with the same shape of self.\n",
        "        Returns:\n",
        "            Matrix\n",
        "        \"\"\"\n",
        "\n",
        "        assert self.is_square, \"The matrix has to be square!\"\n",
        "        data = self._eye(self.shape[0])\n",
        "        return Matrix(data)\n",
        "\n",
        "    def _gaussian_elimination(self, aug_matrix):\n",
        "        \"\"\"To simplify the left square matrix of the augmented matrix\n",
        "        as a unit diagonal matrix.\n",
        "        Arguments:\n",
        "            aug_matrix {list} -- 2d list with int or float.\n",
        "        Returns:\n",
        "            list -- 2d list with int or float.\n",
        "        \"\"\"\n",
        "\n",
        "        n = len(aug_matrix)\n",
        "        m = len(aug_matrix[0])\n",
        "\n",
        "        # From top to bottom.\n",
        "        for col_idx in range(n):\n",
        "            # Check if element on the diagonal is zero.\n",
        "            if aug_matrix[col_idx][col_idx] == 0:\n",
        "                row_idx = col_idx\n",
        "                # Find a row whose element has same column index with\n",
        "                # the element on the diagonal is not zero.\n",
        "                while row_idx < n and aug_matrix[row_idx][col_idx] == 0:\n",
        "                    row_idx += 1\n",
        "                # Add this row to the row of the element on the diagonal.\n",
        "                for i in range(col_idx, m):\n",
        "                    aug_matrix[col_idx][i] += aug_matrix[row_idx][i]\n",
        "\n",
        "            # Elimiate the non-zero element.\n",
        "            for i in range(col_idx + 1, n):\n",
        "                # Skip the zero element.\n",
        "                if aug_matrix[i][col_idx] == 0:\n",
        "                    continue\n",
        "                # Elimiate the non-zero element.\n",
        "                k = aug_matrix[i][col_idx] / aug_matrix[col_idx][col_idx]\n",
        "                for j in range(col_idx, m):\n",
        "                    aug_matrix[i][j] -= k * aug_matrix[col_idx][j]\n",
        "\n",
        "        # From bottom to top.\n",
        "        for col_idx in range(n - 1, -1, -1):\n",
        "            # Elimiate the non-zero element.\n",
        "            for i in range(col_idx):\n",
        "                # Skip the zero element.\n",
        "                if aug_matrix[i][col_idx] == 0:\n",
        "                    continue\n",
        "                # Elimiate the non-zero element.\n",
        "                k = aug_matrix[i][col_idx] / aug_matrix[col_idx][col_idx]\n",
        "                for j in chain(range(i, col_idx + 1), range(n, m)):\n",
        "                    aug_matrix[i][j] -= k * aug_matrix[col_idx][j]\n",
        "\n",
        "        # Iterate the element on the diagonal.\n",
        "        for i in range(n):\n",
        "            k = 1 / aug_matrix[i][i]\n",
        "            aug_matrix[i][i] *= k\n",
        "            for j in range(n, m):\n",
        "                aug_matrix[i][j] *= k\n",
        "\n",
        "        return aug_matrix\n",
        "\n",
        "    def _inverse(self, data):\n",
        "        \"\"\"Find the inverse of a matrix.\n",
        "        Arguments:\n",
        "            data {list} -- 2d list with int or float.\n",
        "        Returns:\n",
        "            list -- 2d list with int or float.\n",
        "        \"\"\"\n",
        "\n",
        "        n = len(data)\n",
        "        unit_matrix = self._eye(n)\n",
        "        aug_matrix = [a + b for a, b in zip(self.data, unit_matrix)]\n",
        "        ret = self._gaussian_elimination(aug_matrix)\n",
        "        return list(map(lambda x: x[n:], ret))\n",
        "\n",
        "    @property\n",
        "    def inverse(self):\n",
        "        \"\"\"Find the inverse matrix of self.\n",
        "        Returns:\n",
        "            Matrix\n",
        "        \"\"\"\n",
        "\n",
        "        assert self.is_square, \"The matrix has to be square!\"\n",
        "        data = self._inverse(self.data)\n",
        "        return Matrix(data)\n",
        "\n",
        "    def _row_mul(self, row_A, row_B):\n",
        "        \"\"\"Multiply the elements with the same subscript in both arrays and sum them.\n",
        "        Arguments:\n",
        "            row_A {list} -- 1d list with float or int.\n",
        "            row_B {list} -- 1d list with float or int.\n",
        "        Returns:\n",
        "            float or int\n",
        "        \"\"\"\n",
        "\n",
        "        return sum(x[0] * x[1] for x in zip(row_A, row_B))\n",
        "\n",
        "    def _mat_mul(self, row_A, B):\n",
        "        \"\"\"An auxiliary function of the mat_mul function.\n",
        "        Arguments:\n",
        "            row_A {list} -- 1d list with float or int.\n",
        "            B {Matrix}\n",
        "        Returns:\n",
        "            list -- 1d list with float or int.\n",
        "        \"\"\"\n",
        "\n",
        "        row_pairs = product([row_A], B.transpose.data)\n",
        "        return [self._row_mul(*row_pair) for row_pair in row_pairs]\n",
        "\n",
        "    def mat_mul(self, B):\n",
        "        \"\"\"Matrix multiplication.\n",
        "        Arguments:\n",
        "            B {Matrix}\n",
        "        Returns:\n",
        "            Matrix\n",
        "        \"\"\"\n",
        "\n",
        "        error_msg = \"A's column count does not match B's row count!\"\n",
        "        assert self.shape[1] == B.shape[0], error_msg\n",
        "        return Matrix([self._mat_mul(row_A, B) for row_A in self.data])\n",
        "\n",
        "    def _mean(self, data):\n",
        "        \"\"\"Calculate the average of all the samples.\n",
        "        Arguments:\n",
        "            X {list} -- 2d list with int or float.\n",
        "        Returns:\n",
        "            list -- 1d list with int or float.\n",
        "        \"\"\"\n",
        "\n",
        "        m = len(data)\n",
        "        n = len(data[0])\n",
        "        ret = [0 for _ in range(n)]\n",
        "        for row in data:\n",
        "            for j in range(n):\n",
        "                ret[j] += row[j] / m\n",
        "        return ret\n",
        "\n",
        "    def mean(self):\n",
        "        \"\"\"Calculate the average of all the samples.\n",
        "        Returns:\n",
        "            Matrix\n",
        "        \"\"\"\n",
        "\n",
        "        return Matrix(self._mean(self.data))\n",
        "\n",
        "    def scala_mul(self, scala):\n",
        "        \"\"\"Scala multiplication.\n",
        "        Arguments:\n",
        "            scala {float}\n",
        "        Returns:\n",
        "            Matrix\n",
        "        \"\"\"\n",
        "\n",
        "        m, n = self.shape\n",
        "        data = deepcopy(self.data)\n",
        "        for i in range(m):\n",
        "            for j in range(n):\n",
        "                data[i][j] *= scala\n",
        "        return Matrix(data)\n"
      ],
      "execution_count": 3,
      "outputs": []
    },
    {
      "cell_type": "code",
      "metadata": {
        "id": "_6qQiY9Z5Ypm"
      },
      "source": [
        "import pandas as pd\n",
        "import numpy as np\n",
        "import random\n",
        "from collections import defaultdict"
      ],
      "execution_count": 4,
      "outputs": []
    },
    {
      "cell_type": "code",
      "metadata": {
        "id": "V5HPXdAW5bxu"
      },
      "source": [
        "class ALS(object):\n",
        "    def __init__(self):\n",
        "        self.user_ids = None\n",
        "        self.item_ids = None\n",
        "        self.user_ids_dict = None\n",
        "        self.item_ids_dict = None\n",
        "        self.user_matrix = None\n",
        "        self.item_matrix = None\n",
        "        self.user_items = None\n",
        "        self.shape = None\n",
        "        self.rmse = None\n",
        "\n",
        "\n",
        "    def _process_data(self, X):\n",
        "        \"\"\" 将评分矩阵X转化为稀疏矩阵\n",
        "            输入参数X:\n",
        "                X {list} -- 2d list with int or float(user_id, item_id, rating)\n",
        "            输出结果:\n",
        "                dict -- {user_id: {item_id: rating}}\n",
        "                dict -- {item_id: {user_id: rating}}\n",
        "        \"\"\"        \n",
        "        self.user_ids = tuple((set(map(lambda x: x[0], X))))\n",
        "        self.user_ids_dict = dict(map(lambda x: x[::-1], enumerate(self.user_ids)))\n",
        "     \n",
        "        self.item_ids = tuple((set(map(lambda x: x[1], X))))\n",
        "        self.item_ids_dict = dict(map(lambda x: x[::-1], enumerate(self.item_ids)))\n",
        "     \n",
        "        self.shape = (len(self.user_ids), len(self.item_ids))\n",
        "     \n",
        "        ratings = defaultdict(lambda: defaultdict(int))\n",
        "        ratings_T = defaultdict(lambda: defaultdict(int))\n",
        "        for row in X:\n",
        "            user_id, item_id, rating = row\n",
        "            ratings[user_id][item_id] = rating\n",
        "            ratings_T[item_id][user_id] = rating\n",
        "     \n",
        "        err_msg = \"Length of user_ids %d and ratings %d not match!\" % (len(self.user_ids), len(ratings))\n",
        "        assert len(self.user_ids) == len(ratings), err_msg\n",
        "     \n",
        "        err_msg = \"Length of item_ids %d and ratings_T %d not match!\" % (len(self.item_ids), len(ratings_T))\n",
        "        assert len(self.item_ids) == len(ratings_T), err_msg\n",
        "        return ratings, ratings_T\n",
        "\n",
        "     \n",
        "    def _users_mul_ratings(self, users, ratings_T):\n",
        "        \"\"\" 用户矩阵(稠密) 与 评分矩阵（稀疏）相乘\n",
        "            The result(items) is a k * n matrix, n stands for number of item_ids.\n",
        "            Arguments:\n",
        "                users {Matrix} -- k * m matrix, m stands for number of user_ids.\n",
        "                ratings_T {dict} -- The items ratings by users.\n",
        "                {item_id: {user_id: rating}}\n",
        "            Returns:\n",
        "                Matrix -- Item matrix.\n",
        "        \"\"\"\n",
        "        def f(users_row, item_id):\n",
        "            user_ids = iter(ratings_T[item_id].keys())\n",
        "            scores = iter(ratings_T[item_id].values())\n",
        "            col_nos = map(lambda x: self.user_ids_dict[x], user_ids)\n",
        "            _users_row = map(lambda x: users_row[x], col_nos)\n",
        "            return sum(a * b for a, b in zip(_users_row, scores))\n",
        "     \n",
        "        ret = [[f(users_row, item_id) for item_id in self.item_ids] for users_row in users.data]\n",
        "        return Matrix(ret)\n",
        "\n",
        "    def _items_mul_ratings(self, items, ratings):\n",
        "        \"\"\" item矩阵（稠密）与评分矩阵（稀疏）相乘\n",
        "        The result(users) is a k * m matrix, m stands for number of user_ids.\n",
        "        Arguments:\n",
        "            items {Matrix} -- k * n matrix, n stands for number of item_ids.\n",
        "            ratings {dict} -- The items ratings by users.\n",
        "            {user_id: {item_id: rating}}\n",
        "        Returns:\n",
        "            Matrix -- User matrix.\n",
        "        \"\"\"\n",
        "        def f(items_row, user_id):\n",
        "            item_ids = iter(ratings[user_id].keys())\n",
        "            scores = iter(ratings[user_id].values())\n",
        "            col_nos = map(lambda x: self.item_ids_dict[x], item_ids)\n",
        "            _items_row = map(lambda x: items_row[x], col_nos)\n",
        "            return sum(a * b for a, b in zip(_items_row, scores))\n",
        "     \n",
        "        ret = [[f(items_row, user_id) for user_id in self.user_ids] for items_row in items.data]\n",
        "        return Matrix(ret)\n",
        "\n",
        "    # 生成随机矩阵\n",
        "    def _gen_random_matrix(self, n_rows, n_colums):\n",
        "        #print(n_colums, ' ', n_rows)\n",
        "        #data = [[random() for _ in range(n_colums)] for _ in range(n_rows)]\n",
        "        #d = 2\n",
        "        data = np.random.rand(n_rows, n_colums)\n",
        "        return Matrix(data)\n",
        "\n",
        "\n",
        "    # 计算RMSE\n",
        "    def _get_rmse(self, ratings):\n",
        "            m, n = self.shape\n",
        "            mse = 0.0\n",
        "            n_elements = sum(map(len, ratings.values()))\n",
        "            for i in range(m):\n",
        "                for j in range(n):\n",
        "                    user_id = self.user_ids[i]\n",
        "                    item_id = self.item_ids[j]\n",
        "                    rating = ratings[user_id][item_id]\n",
        "                    if rating > 0:\n",
        "                        user_row = self.user_matrix.col(i).transpose\n",
        "                        item_col = self.item_matrix.col(j)\n",
        "                        rating_hat = user_row.mat_mul(item_col).data[0][0]\n",
        "                        square_error = (rating - rating_hat) ** 2\n",
        "                        mse += square_error / n_elements\n",
        "            return mse ** 0.5\n",
        "\n",
        "    # 模型训练\n",
        "    def fit(self, X, k, max_iter=10):\n",
        "        ratings, ratings_T = self._process_data(X)\n",
        "        self.user_items = {k: set(v.keys()) for k, v in ratings.items()}\n",
        "        m, n = self.shape\n",
        "     \n",
        "        error_msg = \"Parameter k must be less than the rank of original matrix\"\n",
        "        assert k < min(m, n), error_msg\n",
        "     \n",
        "        self.user_matrix = self._gen_random_matrix(k, m)\n",
        "     \n",
        "        for i in range(max_iter):\n",
        "            if i % 2:\n",
        "                items = self.item_matrix\n",
        "                self.user_matrix = self._items_mul_ratings(\n",
        "                    items.mat_mul(items.transpose).inverse.mat_mul(items),\n",
        "                    ratings\n",
        "                )\n",
        "            else:\n",
        "                users = self.user_matrix\n",
        "                self.item_matrix = self._users_mul_ratings(\n",
        "                    users.mat_mul(users.transpose).inverse.mat_mul(users),\n",
        "                    ratings_T\n",
        "                )\n",
        "            rmse = self._get_rmse(ratings)\n",
        "            print(\"Iterations: %d, RMSE: %.6f\" % (i + 1, rmse))\n",
        "     \n",
        "        self.rmse = rmse\n",
        "\n",
        "    # Top-n推荐，用户列表：user_id, n_items: Top-n\n",
        "    def _predict(self, user_id, n_items):\n",
        "        users_col = self.user_matrix.col(self.user_ids_dict[user_id])\n",
        "        users_col = users_col.transpose\n",
        "     \n",
        "        items_col = enumerate(users_col.mat_mul(self.item_matrix).data[0])\n",
        "        items_scores = map(lambda x: (self.item_ids[x[0]], x[1]), items_col)\n",
        "        viewed_items = self.user_items[user_id]\n",
        "        items_scores = filter(lambda x: x[0] not in viewed_items, items_scores)\n",
        "     \n",
        "        return sorted(items_scores, key=lambda x: x[1], reverse=True)[:n_items]\n",
        "        # 预测多个用户\n",
        "    def predict(self, user_ids, n_items=10):\n",
        "        return [self._predict(user_id, n_items) for user_id in user_ids]"
      ],
      "execution_count": 5,
      "outputs": []
    },
    {
      "cell_type": "code",
      "metadata": {
        "id": "FwU66kBY5gF2"
      },
      "source": [
        "def format_prediction(item_id, score):\n",
        "    return \"item_id:%d score:%.2f\" % (item_id, score)\n",
        "\n",
        "def load_movie_ratings(file_name):\n",
        "    f = open(file_name)\n",
        "    lines = iter(f)\n",
        "    col_names = \", \".join(next(lines)[:-1].split(\",\")[:-1])\n",
        "    print(\"The column names are: %s.\" % col_names)\n",
        "    data = [[float(x) if i == 2 else int(x)\n",
        "             for i, x in enumerate(line[:-1].split(\",\")[:-1])]\n",
        "            for line in lines]\n",
        "    f.close()\n",
        "\n",
        "    return data"
      ],
      "execution_count": 6,
      "outputs": []
    },
    {
      "cell_type": "code",
      "metadata": {
        "id": "QyQbIOtk5mk-",
        "colab": {
          "base_uri": "https://localhost:8080/"
        },
        "outputId": "a398c2de-b8af-4043-e434-4c9e3cbb4fe3"
      },
      "source": [
        "print(\"使用ALS算法\") \n",
        "model = ALS()\n",
        "# 数据加载\n",
        "X = load_movie_ratings('/content/gdrive/My Drive/les2/ratings_small.csv')\n",
        "# 运行max_iter次\n",
        "model.fit(X, k=3, max_iter=2)\n",
        "\"\"\"\n",
        "X = np.array([[1,1,1], [1,2,1], [2,1,1], [2,3,1], [3,2,1], [3,3,1], [4,1,1], [4,2,1],\n",
        "              [5,4,1], [5,5,1], [6,4,1], [6,6,1], [7,5,1], [7,6,1], [8,4,1], [8,5,1], [9,4,1], [9,5,1],\n",
        "              [10,7,1], [10,8,1], [11,8,1], [11,9,1], [12,7,1], [12,9,1]])\n",
        "# 运行max_iter次\n",
        "model.fit(X, k=3, max_iter=20)\n",
        "\"\"\"\n",
        "\n",
        "print(\"对用户进行推荐\")\n",
        "user_ids = range(1, 13)\n",
        "# 对用户列表user_ids，进行Top-n推荐\n",
        "predictions = model.predict(user_ids, n_items=2)\n",
        "print(predictions)\n",
        "for user_id, prediction in zip(user_ids, predictions):\n",
        "    _prediction = [format_prediction(item_id, score) for item_id, score in prediction]\n",
        "    print(\"User id:%d recommedation: %s\" % (user_id, _prediction))"
      ],
      "execution_count": 8,
      "outputs": [
        {
          "output_type": "stream",
          "text": [
            "使用ALS算法\n",
            "The column names are: userId, movieId, rating.\n",
            "Iterations: 1, RMSE: 3.377020\n",
            "Iterations: 2, RMSE: 0.396741\n",
            "对用户进行推荐\n",
            "[[(260, 0.1412682354037697), (356, 0.12829293593976374)], [(318, 2.1313734248989826), (1, 1.850780906684241)], [(260, 1.275882438457773), (2571, 1.0546845435080607)], [(318, 4.323199346084124), (593, 3.5940228223554547)], [(318, 1.9728852999749298), (296, 1.9169317005841497)], [(260, 0.8134754977538808), (2858, 0.6650483835875854)], [(296, 2.311060423488135), (593, 1.9883631448342798)], [(608, 2.4696753706762333), (1580, 2.015525740290214)], [(296, 1.1412028059908133), (356, 1.1000498577835252)], [(296, 0.9513271263996543), (356, 0.9203127439795489)], [(356, 0.49673422961912406), (593, 0.44645597701662726)], [(260, 0.5349284356544446), (2858, 0.45132437082685306)]]\n",
            "User id:1 recommedation: ['item_id:260 score:0.14', 'item_id:356 score:0.13']\n",
            "User id:2 recommedation: ['item_id:318 score:2.13', 'item_id:1 score:1.85']\n",
            "User id:3 recommedation: ['item_id:260 score:1.28', 'item_id:2571 score:1.05']\n",
            "User id:4 recommedation: ['item_id:318 score:4.32', 'item_id:593 score:3.59']\n",
            "User id:5 recommedation: ['item_id:318 score:1.97', 'item_id:296 score:1.92']\n",
            "User id:6 recommedation: ['item_id:260 score:0.81', 'item_id:2858 score:0.67']\n",
            "User id:7 recommedation: ['item_id:296 score:2.31', 'item_id:593 score:1.99']\n",
            "User id:8 recommedation: ['item_id:608 score:2.47', 'item_id:1580 score:2.02']\n",
            "User id:9 recommedation: ['item_id:296 score:1.14', 'item_id:356 score:1.10']\n",
            "User id:10 recommedation: ['item_id:296 score:0.95', 'item_id:356 score:0.92']\n",
            "User id:11 recommedation: ['item_id:356 score:0.50', 'item_id:593 score:0.45']\n",
            "User id:12 recommedation: ['item_id:260 score:0.53', 'item_id:2858 score:0.45']\n"
          ],
          "name": "stdout"
        }
      ]
    },
    {
      "cell_type": "code",
      "metadata": {
        "colab": {
          "base_uri": "https://localhost:8080/"
        },
        "id": "MFEJZyApSiww",
        "outputId": "7f82d249-14ee-4f90-9722-238c8886480a"
      },
      "source": [
        "pip install pyspark"
      ],
      "execution_count": 11,
      "outputs": [
        {
          "output_type": "stream",
          "text": [
            "Collecting pyspark\n",
            "\u001b[?25l  Downloading https://files.pythonhosted.org/packages/89/db/e18cfd78e408de957821ec5ca56de1250645b05f8523d169803d8df35a64/pyspark-3.1.2.tar.gz (212.4MB)\n",
            "\u001b[K     |████████████████████████████████| 212.4MB 61kB/s \n",
            "\u001b[?25hCollecting py4j==0.10.9\n",
            "\u001b[?25l  Downloading https://files.pythonhosted.org/packages/9e/b6/6a4fb90cd235dc8e265a6a2067f2a2c99f0d91787f06aca4bcf7c23f3f80/py4j-0.10.9-py2.py3-none-any.whl (198kB)\n",
            "\u001b[K     |████████████████████████████████| 204kB 17.8MB/s \n",
            "\u001b[?25hBuilding wheels for collected packages: pyspark\n",
            "  Building wheel for pyspark (setup.py) ... \u001b[?25l\u001b[?25hdone\n",
            "  Created wheel for pyspark: filename=pyspark-3.1.2-py2.py3-none-any.whl size=212880768 sha256=d2b9ac48383f674618d9b3d4de3dc679dcc1bf27c0c685cd92ff326e05923141\n",
            "  Stored in directory: /root/.cache/pip/wheels/40/1b/2c/30f43be2627857ab80062bef1527c0128f7b4070b6b2d02139\n",
            "Successfully built pyspark\n",
            "Installing collected packages: py4j, pyspark\n",
            "Successfully installed py4j-0.10.9 pyspark-3.1.2\n"
          ],
          "name": "stdout"
        }
      ]
    },
    {
      "cell_type": "code",
      "metadata": {
        "id": "OmeWyVLdST-O"
      },
      "source": [
        "from pyspark.ml.recommendation import ALS\n",
        "from pyspark import SparkContext\n",
        "from pyspark.sql import SQLContext\n",
        "from pyspark.sql.types import *\n",
        "import pandas as pd"
      ],
      "execution_count": 24,
      "outputs": []
    },
    {
      "cell_type": "code",
      "metadata": {
        "id": "SQA5v1hbTPrp"
      },
      "source": [
        "sc = SparkContext.getOrCreate()"
      ],
      "execution_count": 25,
      "outputs": []
    },
    {
      "cell_type": "code",
      "metadata": {
        "colab": {
          "base_uri": "https://localhost:8080/"
        },
        "id": "-WdCT3whSWKO",
        "outputId": "b5655da9-393a-4c10-829f-9584f32c9a8c"
      },
      "source": [
        "sc = SparkContext.getOrCreate()\n",
        "sql_sc = SQLContext(sc)\n",
        "\n",
        "pd_df_ratings = pd.read_csv('/content/gdrive/My Drive/les2/ratings_small.csv')\n",
        "pyspark_df_ratings = sql_sc.createDataFrame(pd_df_ratings)\n",
        "pyspark_df_ratings = pyspark_df_ratings.drop('Timestamp')\n",
        "print(pyspark_df_ratings.show(5, truncate=False))\n"
      ],
      "execution_count": 26,
      "outputs": [
        {
          "output_type": "stream",
          "text": [
            "+------+-------+------+\n",
            "|userId|movieId|rating|\n",
            "+------+-------+------+\n",
            "|1     |31     |2.5   |\n",
            "|1     |1029   |3.0   |\n",
            "|1     |1061   |3.0   |\n",
            "|1     |1129   |2.0   |\n",
            "|1     |1172   |4.0   |\n",
            "+------+-------+------+\n",
            "only showing top 5 rows\n",
            "\n",
            "None\n"
          ],
          "name": "stdout"
        }
      ]
    },
    {
      "cell_type": "code",
      "metadata": {
        "id": "jSQJo9XmVS3w"
      },
      "source": [
        "# 创建ALS模型\n",
        "als = ALS(rank=3, maxIter=10, regParam=0.1, userCol= 'userId', itemCol='movieId', ratingCol='rating')\n"
      ],
      "execution_count": 27,
      "outputs": []
    },
    {
      "cell_type": "code",
      "metadata": {
        "colab": {
          "base_uri": "https://localhost:8080/"
        },
        "id": "KH_AO0LQWofx",
        "outputId": "e61027a7-8187-4cc1-b860-fe372139f205"
      },
      "source": [
        "model = als.fit(pyspark_df_ratings)\n",
        "# 对userId=100进行Top-N推荐\n",
        "recommendations = model.recommendForAllUsers(5)\n",
        "print(recommendations.where(recommendations.userId == 100).collect())"
      ],
      "execution_count": 28,
      "outputs": [
        {
          "output_type": "stream",
          "text": [
            "[Row(userId=100, recommendations=[Row(movieId=83318, rating=5.444380283355713), Row(movieId=67504, rating=5.444380283355713), Row(movieId=83411, rating=5.444380283355713), Row(movieId=83359, rating=5.444380283355713), Row(movieId=92494, rating=5.0471601486206055)])]\n"
          ],
          "name": "stdout"
        }
      ]
    },
    {
      "cell_type": "code",
      "metadata": {
        "colab": {
          "base_uri": "https://localhost:8080/"
        },
        "id": "5WASAEelTcDX",
        "outputId": "d1d96615-1675-461b-cc3d-b7cd5969314f"
      },
      "source": [
        "# 使用pyspark-ALS进行矩阵分解\n",
        "from pyspark import SparkContext\n",
        "from pyspark.mllib.recommendation import ALS\n",
        "\n",
        "print(\"使用Spark-ALS算法\")\n",
        "sc.stop() \n",
        "sc = SparkContext('local', 'MovieRec')\n",
        "# 读取数据，需要第一行不是列名\n",
        "rawUserData = temp = sc.textFile('/content/gdrive/My Drive/les2/ratings_small_without_header.csv')\n",
        "print(rawUserData.count())\n",
        "print(rawUserData.first())\n",
        "\n",
        "rawRatings = rawUserData.map(lambda line: line.split(\",\")[:3])\n",
        "print(rawRatings.take(5))\n",
        "training_RDD = rawRatings.map(lambda x: (x[0], x[1], x[2]))\n",
        "\n",
        "# 模型训练\n",
        "rank = 3\n",
        "model = ALS.train(training_RDD, rank, seed=5, iterations=10, lambda_=0.1)\n",
        "# 针对user_id = 100的用户进行Top-N推荐\n",
        "print(model.recommendProducts(100, 5))"
      ],
      "execution_count": 32,
      "outputs": [
        {
          "output_type": "stream",
          "text": [
            "使用Spark-ALS算法\n",
            "100004\n",
            "1,31,2.5,1260759144\n",
            "[['1', '31', '2.5'], ['1', '1029', '3.0'], ['1', '1061', '3.0'], ['1', '1129', '2.0'], ['1', '1172', '4.0']]\n",
            "[Rating(user=100, product=67504, rating=5.61383724956478), Rating(user=100, product=83359, rating=5.61383724956478), Rating(user=100, product=83411, rating=5.61383724956478), Rating(user=100, product=83318, rating=5.61383724956478), Rating(user=100, product=3216, rating=5.40984140528023)]\n"
          ],
          "name": "stdout"
        }
      ]
    },
    {
      "cell_type": "code",
      "metadata": {
        "colab": {
          "base_uri": "https://localhost:8080/"
        },
        "id": "bcxe1pE4ZfJH",
        "outputId": "bf51d067-f5ea-4b30-943b-1ec0127024a3"
      },
      "source": [
        "pip install surprise"
      ],
      "execution_count": 34,
      "outputs": [
        {
          "output_type": "stream",
          "text": [
            "Collecting surprise\n",
            "  Downloading https://files.pythonhosted.org/packages/61/de/e5cba8682201fcf9c3719a6fdda95693468ed061945493dea2dd37c5618b/surprise-0.1-py2.py3-none-any.whl\n",
            "Collecting scikit-surprise\n",
            "\u001b[?25l  Downloading https://files.pythonhosted.org/packages/97/37/5d334adaf5ddd65da99fc65f6507e0e4599d092ba048f4302fe8775619e8/scikit-surprise-1.1.1.tar.gz (11.8MB)\n",
            "\u001b[K     |████████████████████████████████| 11.8MB 257kB/s \n",
            "\u001b[?25hRequirement already satisfied: joblib>=0.11 in /usr/local/lib/python3.7/dist-packages (from scikit-surprise->surprise) (1.0.1)\n",
            "Requirement already satisfied: numpy>=1.11.2 in /usr/local/lib/python3.7/dist-packages (from scikit-surprise->surprise) (1.19.5)\n",
            "Requirement already satisfied: scipy>=1.0.0 in /usr/local/lib/python3.7/dist-packages (from scikit-surprise->surprise) (1.4.1)\n",
            "Requirement already satisfied: six>=1.10.0 in /usr/local/lib/python3.7/dist-packages (from scikit-surprise->surprise) (1.15.0)\n",
            "Building wheels for collected packages: scikit-surprise\n",
            "  Building wheel for scikit-surprise (setup.py) ... \u001b[?25l\u001b[?25hdone\n",
            "  Created wheel for scikit-surprise: filename=scikit_surprise-1.1.1-cp37-cp37m-linux_x86_64.whl size=1617627 sha256=04e196444d00a8453026c6ff0372028e4d7130b59177a3ffa4170b4538070c41\n",
            "  Stored in directory: /root/.cache/pip/wheels/78/9c/3d/41b419c9d2aff5b6e2b4c0fc8d25c538202834058f9ed110d0\n",
            "Successfully built scikit-surprise\n",
            "Installing collected packages: scikit-surprise, surprise\n",
            "Successfully installed scikit-surprise-1.1.1 surprise-0.1\n"
          ],
          "name": "stdout"
        }
      ]
    },
    {
      "cell_type": "code",
      "metadata": {
        "id": "s5H31mXCZckH"
      },
      "source": [
        "from surprise import SVD\n",
        "from surprise import Dataset\n",
        "from surprise.model_selection import cross_validate\n",
        "#from surprise import evaluate, print_perf\n",
        "from surprise import Reader\n",
        "from surprise import BaselineOnly, KNNBasic, KNNBaseline, SlopeOne\n",
        "from surprise import accuracy\n",
        "from surprise.model_selection import KFold\n",
        "import pandas as pd\n",
        "import io\n",
        "import pandas as pd"
      ],
      "execution_count": 35,
      "outputs": []
    },
    {
      "cell_type": "code",
      "metadata": {
        "colab": {
          "base_uri": "https://localhost:8080/"
        },
        "id": "Xz24DnzeZtiN",
        "outputId": "9957fa9b-95e3-497b-aa7c-ceefb7131a81"
      },
      "source": [
        "# 读取物品（电影）名称信息\n",
        "def read_item_names():\n",
        "    file_name = ('/content/gdrive/My Drive/les2/movies.csv') \n",
        "    data = pd.read_csv('/content/gdrive/My Drive/les2/movies.csv')\n",
        "    rid_to_name = {}\n",
        "    name_to_rid = {}\n",
        "    for i in range(len(data['movieId'])):\n",
        "        rid_to_name[data['movieId'][i]] = data['title'][i]\n",
        "        name_to_rid[data['title'][i]] = data['movieId'][i]\n",
        "\n",
        "    return rid_to_name, name_to_rid \n",
        "\n",
        "# 数据读取\n",
        "reader = Reader(line_format='user item rating timestamp', sep=',', skip_lines=1)\n",
        "data = Dataset.load_from_file('/content/gdrive/My Drive/les2/ratings.csv', reader=reader)\n",
        "train_set = data.build_full_trainset()\n",
        "\n",
        "\n",
        "# 使用SlopeOne算法\n",
        "algo = SlopeOne()\n",
        "algo.fit(train_set)\n",
        "# 对指定用户和商品进行评分预测\n",
        "uid = str(196) \n",
        "iid = str(302) \n",
        "pred = algo.predict(uid, iid, r_ui=4, verbose=True)"
      ],
      "execution_count": 36,
      "outputs": [
        {
          "output_type": "stream",
          "text": [
            "user: 196        item: 302        r_ui = 4.00   est = 4.32   {'was_impossible': False}\n"
          ],
          "name": "stdout"
        }
      ]
    },
    {
      "cell_type": "code",
      "metadata": {
        "colab": {
          "base_uri": "https://localhost:8080/"
        },
        "id": "ot_bBL-DaYvi",
        "outputId": "5d586441-f214-4f82-8bb9-d366712e2705"
      },
      "source": [
        "#from surprise import SVD\n",
        "from surprise import Dataset\n",
        "from surprise import Reader\n",
        "from surprise import BaselineOnly, KNNBasic, NormalPredictor\n",
        "from surprise import accuracy\n",
        "from surprise.model_selection import KFold\n",
        "#import pandas as pd\n",
        "\n",
        "# 数据读取\n",
        "reader = Reader(line_format='user item rating timestamp', sep=',', skip_lines=1)\n",
        "data = Dataset.load_from_file('/content/gdrive/My Drive/les2/ratings.csv', reader=reader)\n",
        "train_set = data.build_full_trainset()\n",
        "\n",
        "# ALS优化\n",
        "bsl_options = {'method': 'als','n_epochs': 5,'reg_u': 12,'reg_i': 5}\n",
        "# SGD优化\n",
        "#bsl_options = {'method': 'sgd','n_epochs': 5}\n",
        "algo = BaselineOnly(bsl_options=bsl_options)\n",
        "#algo = BaselineOnly()\n",
        "#algo = NormalPredictor()\n",
        "\n",
        "# 定义K折交叉验证迭代器，K=3\n",
        "kf = KFold(n_splits=3)\n",
        "for trainset, testset in kf.split(data):\n",
        "    # 训练并预测\n",
        "    algo.fit(trainset)\n",
        "    predictions = algo.test(testset)\n",
        "    # 计算RMSE\n",
        "    accuracy.rmse(predictions, verbose=True)\n",
        "\n",
        "uid = str(196)\n",
        "iid = str(302)\n",
        "# 输出uid对iid的预测结果\n",
        "pred = algo.predict(uid, iid, r_ui=4, verbose=True)"
      ],
      "execution_count": 38,
      "outputs": [
        {
          "output_type": "stream",
          "text": [
            "Estimating biases using als...\n",
            "RMSE: 0.8623\n",
            "Estimating biases using als...\n",
            "RMSE: 0.8658\n",
            "Estimating biases using als...\n",
            "RMSE: 0.8635\n",
            "user: 196        item: 302        r_ui = 4.00   est = 4.22   {'was_impossible': False}\n"
          ],
          "name": "stdout"
        }
      ]
    }
  ]
}