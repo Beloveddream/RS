{
  "nbformat": 4,
  "nbformat_minor": 0,
  "metadata": {
    "colab": {
      "name": "titanic.ipynb",
      "provenance": [],
      "authorship_tag": "ABX9TyMDwLnnTES9cJpbuw+/UGW+",
      "include_colab_link": true
    },
    "kernelspec": {
      "name": "python3",
      "display_name": "Python 3"
    },
    "language_info": {
      "name": "python"
    }
  },
  "cells": [
    {
      "cell_type": "markdown",
      "metadata": {
        "id": "view-in-github",
        "colab_type": "text"
      },
      "source": [
        "<a href=\"https://colab.research.google.com/github/Beloveddream/RS/blob/main/titanic.ipynb\" target=\"_parent\"><img src=\"https://colab.research.google.com/assets/colab-badge.svg\" alt=\"Open In Colab\"/></a>"
      ]
    },
    {
      "cell_type": "code",
      "metadata": {
        "colab": {
          "base_uri": "https://localhost:8080/"
        },
        "id": "aqJEOJYlhKPH",
        "outputId": "c20f1acb-7d22-4b48-eb19-8ad48bdbbed0"
      },
      "source": [
        "from google.colab import drive\n",
        "drive.mount('/content/gdrive')"
      ],
      "execution_count": 1,
      "outputs": [
        {
          "output_type": "stream",
          "text": [
            "Mounted at /content/gdrive\n"
          ],
          "name": "stdout"
        }
      ]
    },
    {
      "cell_type": "code",
      "metadata": {
        "id": "c_QZnKewggAe"
      },
      "source": [
        "import numpy as np\n",
        "import pandas as pd\n",
        "from sklearn.tree import DecisionTreeClassifier\n",
        "from sklearn.feature_extraction import DictVectorizer\n",
        "from sklearn.model_selection import cross_val_score\n",
        "from sklearn import metrics\n",
        "from sklearn.feature_extraction import DictVectorizer"
      ],
      "execution_count": 2,
      "outputs": []
    },
    {
      "cell_type": "code",
      "metadata": {
        "colab": {
          "base_uri": "https://localhost:8080/"
        },
        "id": "ZyDWBNpehNp6",
        "outputId": "c10e8fb2-4063-4539-eaa7-f714a4cf82ea"
      },
      "source": [
        "# 数据加载\n",
        "train_data = pd.read_csv('/content/gdrive/My Drive/les1/tatanic/train.csv')\n",
        "test_data = pd.read_csv('/content/gdrive/My Drive/les1/tatanic/test.csv')\n",
        "# 数据探索\n",
        "# 查看train_data信息\n",
        "#pd.set_option('display.max_columns', None) #显示所有列\n",
        "print('查看数据信息：列名、非空个数、类型等')\n",
        "print(train_data.info())\n",
        "print('-'*30)\n",
        "print('查看数据摘要')\n",
        "print(train_data.describe())\n",
        "print('-'*30)\n",
        "print('查看离散数据分布')\n",
        "print(train_data.describe(include=['O']))\n",
        "print('-'*30)\n",
        "print('查看前5条数据')\n",
        "print(train_data.head())\n",
        "print('-'*30)\n",
        "print('查看后5条数据')\n",
        "print(train_data.tail())"
      ],
      "execution_count": 3,
      "outputs": [
        {
          "output_type": "stream",
          "text": [
            "查看数据信息：列名、非空个数、类型等\n",
            "<class 'pandas.core.frame.DataFrame'>\n",
            "RangeIndex: 891 entries, 0 to 890\n",
            "Data columns (total 12 columns):\n",
            " #   Column       Non-Null Count  Dtype  \n",
            "---  ------       --------------  -----  \n",
            " 0   PassengerId  891 non-null    int64  \n",
            " 1   Survived     891 non-null    int64  \n",
            " 2   Pclass       891 non-null    int64  \n",
            " 3   Name         891 non-null    object \n",
            " 4   Sex          891 non-null    object \n",
            " 5   Age          714 non-null    float64\n",
            " 6   SibSp        891 non-null    int64  \n",
            " 7   Parch        891 non-null    int64  \n",
            " 8   Ticket       891 non-null    object \n",
            " 9   Fare         891 non-null    float64\n",
            " 10  Cabin        204 non-null    object \n",
            " 11  Embarked     889 non-null    object \n",
            "dtypes: float64(2), int64(5), object(5)\n",
            "memory usage: 83.7+ KB\n",
            "None\n",
            "------------------------------\n",
            "查看数据摘要\n",
            "       PassengerId    Survived      Pclass  ...       SibSp       Parch        Fare\n",
            "count   891.000000  891.000000  891.000000  ...  891.000000  891.000000  891.000000\n",
            "mean    446.000000    0.383838    2.308642  ...    0.523008    0.381594   32.204208\n",
            "std     257.353842    0.486592    0.836071  ...    1.102743    0.806057   49.693429\n",
            "min       1.000000    0.000000    1.000000  ...    0.000000    0.000000    0.000000\n",
            "25%     223.500000    0.000000    2.000000  ...    0.000000    0.000000    7.910400\n",
            "50%     446.000000    0.000000    3.000000  ...    0.000000    0.000000   14.454200\n",
            "75%     668.500000    1.000000    3.000000  ...    1.000000    0.000000   31.000000\n",
            "max     891.000000    1.000000    3.000000  ...    8.000000    6.000000  512.329200\n",
            "\n",
            "[8 rows x 7 columns]\n",
            "------------------------------\n",
            "查看离散数据分布\n",
            "                              Name   Sex Ticket        Cabin Embarked\n",
            "count                          891   891    891          204      889\n",
            "unique                         891     2    681          147        3\n",
            "top     Lemberopolous, Mr. Peter L  male   1601  C23 C25 C27        S\n",
            "freq                             1   577      7            4      644\n",
            "------------------------------\n",
            "查看前5条数据\n",
            "   PassengerId  Survived  Pclass  ...     Fare Cabin  Embarked\n",
            "0            1         0       3  ...   7.2500   NaN         S\n",
            "1            2         1       1  ...  71.2833   C85         C\n",
            "2            3         1       3  ...   7.9250   NaN         S\n",
            "3            4         1       1  ...  53.1000  C123         S\n",
            "4            5         0       3  ...   8.0500   NaN         S\n",
            "\n",
            "[5 rows x 12 columns]\n",
            "------------------------------\n",
            "查看后5条数据\n",
            "     PassengerId  Survived  Pclass  ...   Fare Cabin  Embarked\n",
            "886          887         0       2  ...  13.00   NaN         S\n",
            "887          888         1       1  ...  30.00   B42         S\n",
            "888          889         0       3  ...  23.45   NaN         S\n",
            "889          890         1       1  ...  30.00  C148         C\n",
            "890          891         0       3  ...   7.75   NaN         Q\n",
            "\n",
            "[5 rows x 12 columns]\n"
          ],
          "name": "stdout"
        }
      ]
    },
    {
      "cell_type": "code",
      "metadata": {
        "colab": {
          "base_uri": "https://localhost:8080/"
        },
        "id": "S5HTZr19htpK",
        "outputId": "f6bbc903-5521-495a-fedb-6300c0db49ff"
      },
      "source": [
        "# 使用平均年龄来填充年龄中的nan值\n",
        "train_data['Age'].fillna(train_data['Age'].mean(), inplace=True)\n",
        "test_data['Age'].fillna(test_data['Age'].mean(),inplace=True)\n",
        "# 使用票价的均值填充票价中的nan值\n",
        "train_data['Fare'].fillna(train_data['Fare'].mean(), inplace=True)\n",
        "test_data['Fare'].fillna(test_data['Fare'].mean(),inplace=True)\n",
        "\n",
        "print(train_data['Embarked'].value_counts())"
      ],
      "execution_count": 4,
      "outputs": [
        {
          "output_type": "stream",
          "text": [
            "S    644\n",
            "C    168\n",
            "Q     77\n",
            "Name: Embarked, dtype: int64\n"
          ],
          "name": "stdout"
        }
      ]
    },
    {
      "cell_type": "code",
      "metadata": {
        "colab": {
          "base_uri": "https://localhost:8080/"
        },
        "id": "SV-5xdGMiqud",
        "outputId": "b85f24c0-6f78-4af2-a94e-9d9a1336b6e3"
      },
      "source": [
        "# 使用登录最多的港口来填充登录港口的nan值\n",
        "train_data['Embarked'].fillna('S', inplace=True)\n",
        "test_data['Embarked'].fillna('S',inplace=True)\n",
        "# 特征选择\n",
        "features = ['Pclass', 'Sex', 'Age', 'SibSp', 'Parch', 'Fare', 'Embarked']\n",
        "train_features = train_data[features]\n",
        "train_labels = train_data['Survived']\n",
        "test_features = test_data[features]\n",
        "print('特征值')\n",
        "print(train_features)\n",
        "\n",
        "dvec=DictVectorizer(sparse=False)\n",
        "train_features=dvec.fit_transform(train_features.to_dict(orient='record'))\n",
        "print(dvec.feature_names_)\n",
        "# 构造ID3决策树\n",
        "clf = DecisionTreeClassifier(criterion='entropy')\n",
        "# 决策树训练\n",
        "clf.fit(train_features, train_labels)\n",
        "\n",
        "test_features=dvec.transform(test_features.to_dict(orient='record'))\n",
        "# 决策树预测\n",
        "pred_labels = clf.predict(test_features)\n",
        "\n",
        "# 得到决策树准确率(基于训练集)\n",
        "acc_decision_tree = round(clf.score(train_features, train_labels), 6)\n",
        "print(u'score准确率为 %.4lf' % acc_decision_tree)\n",
        "\n",
        "# 使用K折交叉验证 统计决策树准确率\n",
        "print(u'cross_val_score准确率为 %.4lf' % np.mean(cross_val_score(clf, train_features, train_labels, cv=10)))"
      ],
      "execution_count": 5,
      "outputs": [
        {
          "output_type": "stream",
          "text": [
            "特征值\n",
            "     Pclass     Sex        Age  SibSp  Parch     Fare Embarked\n",
            "0         3    male  22.000000      1      0   7.2500        S\n",
            "1         1  female  38.000000      1      0  71.2833        C\n",
            "2         3  female  26.000000      0      0   7.9250        S\n",
            "3         1  female  35.000000      1      0  53.1000        S\n",
            "4         3    male  35.000000      0      0   8.0500        S\n",
            "..      ...     ...        ...    ...    ...      ...      ...\n",
            "886       2    male  27.000000      0      0  13.0000        S\n",
            "887       1  female  19.000000      0      0  30.0000        S\n",
            "888       3  female  29.699118      1      2  23.4500        S\n",
            "889       1    male  26.000000      0      0  30.0000        C\n",
            "890       3    male  32.000000      0      0   7.7500        Q\n",
            "\n",
            "[891 rows x 7 columns]\n",
            "['Age', 'Embarked=C', 'Embarked=Q', 'Embarked=S', 'Fare', 'Parch', 'Pclass', 'Sex=female', 'Sex=male', 'SibSp']\n",
            "score准确率为 0.9820\n",
            "cross_val_score准确率为 0.7857\n"
          ],
          "name": "stdout"
        },
        {
          "output_type": "stream",
          "text": [
            "/usr/local/lib/python3.7/dist-packages/pandas/core/frame.py:1490: FutureWarning: Using short name for 'orient' is deprecated. Only the options: ('dict', list, 'series', 'split', 'records', 'index') will be used in a future version. Use one of the above to silence this warning.\n",
            "  FutureWarning,\n",
            "/usr/local/lib/python3.7/dist-packages/pandas/core/frame.py:1490: FutureWarning: Using short name for 'orient' is deprecated. Only the options: ('dict', list, 'series', 'split', 'records', 'index') will be used in a future version. Use one of the above to silence this warning.\n",
            "  FutureWarning,\n"
          ],
          "name": "stderr"
        }
      ]
    }
  ]
}