{
  "nbformat": 4,
  "nbformat_minor": 0,
  "metadata": {
    "colab": {
      "name": "Product.ipynb",
      "provenance": [],
      "authorship_tag": "ABX9TyPKcBHoVnxvjxEYB6QPUAdP",
      "include_colab_link": true
    },
    "kernelspec": {
      "name": "python3",
      "display_name": "Python 3"
    },
    "language_info": {
      "name": "python"
    }
  },
  "cells": [
    {
      "cell_type": "markdown",
      "metadata": {
        "id": "view-in-github",
        "colab_type": "text"
      },
      "source": [
        "<a href=\"https://colab.research.google.com/github/Beloveddream/RS/blob/main/Product.ipynb\" target=\"_parent\"><img src=\"https://colab.research.google.com/assets/colab-badge.svg\" alt=\"Open In Colab\"/></a>"
      ]
    },
    {
      "cell_type": "code",
      "metadata": {
        "colab": {
          "base_uri": "https://localhost:8080/"
        },
        "id": "bdyLLPLvNcrS",
        "outputId": "55e7c57e-b949-4c76-c801-8a8916affae8"
      },
      "source": [
        "from google.colab import drive\n",
        "drive.mount('/content/gdrive')"
      ],
      "execution_count": 2,
      "outputs": [
        {
          "output_type": "stream",
          "text": [
            "Drive already mounted at /content/gdrive; to attempt to forcibly remount, call drive.mount(\"/content/gdrive\", force_remount=True).\n"
          ],
          "name": "stdout"
        }
      ]
    },
    {
      "cell_type": "code",
      "metadata": {
        "id": "BPCDPye-NIlq",
        "colab": {
          "base_uri": "https://localhost:8080/"
        },
        "outputId": "bbbca695-c9c7-4e97-9e0c-bdb8b516ebec"
      },
      "source": [
        "import pandas as pd\n",
        "import numpy as np\n",
        "#载入数据\n",
        "train_data = pd.read_csv('/content/gdrive/My Drive/Product/sant/train.csv')\n",
        "test_data = pd.read_csv('/content/gdrive/My Drive/Product/sant/test.csv')\n",
        "train_data['origin'] = 'train'\n",
        "test_data['origin'] = 'test'\n",
        "data = pd.concat([train_data, test_data], ignore_index=True, sort=False)\n",
        "#重命名列名\n",
        "data.rename(columns = {'fecha_dato':'date','ncodpers':'user_id','ind_empleado':'employee_type',\n",
        "                        'pais_residencia':'user_country','sexo':'sex','fecha_alta':'register_date',\n",
        "                        'ind_nuevo':'new_user_type','antiguedad':'user_seniority','indrel':'user_type',\n",
        "                        'ult_fec_cli_1t':'last_date_as_primary_user','indrel_1mes':'user_type_at_begin',\n",
        "                        'tiprel_1mes':'user_relation_at_begin','indresi':'live_country_type','indext':'born_country_type',\n",
        "                        'conyuemp':'employee_spouse_type','canal_entrada':'user_join_channel','indfall':'alive_type',\n",
        "                        'tipodom':'address_type','cod_prov':'province_code','nomprov':'province_name',\n",
        "                        'ind_actividad_cliente':'activity_type','renta':'user_income','segmento':'user_segmentation',\n",
        "                        'ind_ahor_fin_ult1':'item_1','ind_aval_fin_ult1':'item_2','ind_cco_fin_ult1':'item_3',\n",
        "                        'ind_cder_fin_ult1':'item_4','ind_cno_fin_ult1':'item_5','ind_ctju_fin_ult1':'item_6',\n",
        "                        'ind_ctma_fin_ult1':'item_7','ind_ctop_fin_ult1':'item_8','ind_ctpp_fin_ult1':'item_9',\n",
        "                        'ind_deco_fin_ult1':'item_10','ind_deme_fin_ult1':'item_11','ind_dela_fin_ult1':'item_12',\n",
        "                        'ind_ecue_fin_ult1':'item_13','ind_fond_fin_ult1':'item_14','ind_hip_fin_ult1':'item_15',\n",
        "                        'ind_plan_fin_ult1':'item_16','ind_pres_fin_ult1':'item_17','ind_reca_fin_ult1':'item_18',\n",
        "                        'ind_tjcr_fin_ult1':'item_19','ind_valo_fin_ult1':'item_20','ind_viv_fin_ult1':'item_21',\n",
        "                        'ind_nomina_ult1':'item_22','ind_nom_pens_ult1':'item_23','ind_recibo_ult1':'item_24'},inplace = True)\n",
        "#去除一些相关性不太大的特征列\n",
        "data = data.dropna(axis=0,subset = ['register_date'])\n",
        "data = data.drop('employee_spouse_type',axis = 1)\n",
        "data = data.drop('last_date_as_primary_user',axis = 1)\n",
        "data = data.drop('province_name',axis = 1)\n",
        "data = data.drop('address_type',axis = 1)\n",
        "data = data.drop('employee_type',axis = 1)\n",
        "#对特征列的空值进行补全\n",
        "data['user_type'] = data['user_type'].replace(np.nan, 2)\n",
        "data['province_code'] = data['province_code'].replace(np.nan, 99)\n",
        "data['activity_type'] = data['activity_type'].replace(np.nan, 2)\n",
        "data['user_country'] = data['user_country'].replace(np.nan, 'unknown')\n",
        "data['sex'] = data['sex'].replace(np.nan,'unknown')\n",
        "data['user_seniority'] = data['user_seniority'].replace(np.nan, 0)\n",
        "data['user_seniority'] = data['user_seniority'].replace('     NA', 0)\n",
        "data['user_type_at_begin'] = data['user_type_at_begin'].replace('1.0', 1)\n",
        "data['user_type_at_begin'] = data['user_type_at_begin'].replace('1', 1)\n",
        "data['user_type_at_begin'] = data['user_type_at_begin'].replace('3.0', 3)\n",
        "data['user_type_at_begin'] = data['user_type_at_begin'].replace('3', 3)\n",
        "data['user_type_at_begin'] = data['user_type_at_begin'].replace('2.0', 2)\n",
        "data['user_type_at_begin'] = data['user_type_at_begin'].replace('2', 2)\n",
        "data['user_type_at_begin'] = data['user_type_at_begin'].replace('4.0', 4)\n",
        "data['user_type_at_begin'] = data['user_type_at_begin'].replace('4', 4)\n",
        "data['user_type_at_begin'] = data['user_type_at_begin'].replace('P', 5)\n",
        "data['user_type_at_begin'] = data['user_type_at_begin'].replace(np.nan, 0)\n",
        "data['user_relation_at_begin'] = data['user_relation_at_begin'].replace(np.nan, 'unknown')\n",
        "data['live_country_type'] = data['live_country_type'].replace(np.nan, 'unknown')\n",
        "data['born_country_type'] = data['born_country_type'].replace(np.nan, 'unknown')\n",
        "data['user_join_channel'] = data['user_join_channel'].replace(np.nan, 'unknown')\n",
        "data = data.drop('alive_type',axis = 1)\n",
        "data['user_segmentation'] = data['user_segmentation'].replace(np.nan, 'unknown')\n",
        "#增加用户使用时长的特征\n",
        "data['date']=pd.to_datetime(data['date'],format='%Y-%m-%d')\n",
        "data['register_date']=pd.to_datetime(data['register_date'],format='%Y-%m-%d')\n",
        "data['use_time'] = (data['date'] - data['register_date']).dt.days\n",
        "data = data.drop('register_date',axis =1)"
      ],
      "execution_count": 4,
      "outputs": [
        {
          "output_type": "stream",
          "text": [
            "/usr/local/lib/python3.7/dist-packages/IPython/core/interactiveshell.py:2718: DtypeWarning: Columns (5,8,11,15) have mixed types.Specify dtype option on import or set low_memory=False.\n",
            "  interactivity=interactivity, compiler=compiler, result=result)\n"
          ],
          "name": "stderr"
        }
      ]
    },
    {
      "cell_type": "code",
      "metadata": {
        "id": "VyODSRLeQnjj"
      },
      "source": [
        "#提取用户信息特征准备通过xgboost对用户收入进行补全\n",
        "user_data = data[['user_id','date','user_country','sex','age',\n",
        "                'user_seniority','user_type','live_country_type','born_country_type',\n",
        "                'user_join_channel','province_code','activity_type','user_income',\n",
        "                'user_segmentation','use_time']]\n",
        "user_data = user_data.sort_values(by=['user_id','date'])\n",
        "user_data.drop_duplicates(subset = ['user_id'],keep='last',inplace=True)\n",
        "user_data = user_data.drop('date',axis = 1)\n",
        "user_data = user_data.reset_index(drop = True)"
      ],
      "execution_count": 5,
      "outputs": []
    },
    {
      "cell_type": "code",
      "metadata": {
        "colab": {
          "base_uri": "https://localhost:8080/"
        },
        "id": "Z2tnsaBLQt2i",
        "outputId": "b92973a4-d44c-4a5f-d7ab-8715e3bc009f"
      },
      "source": [
        "print(user_data)"
      ],
      "execution_count": 6,
      "outputs": [
        {
          "output_type": "stream",
          "text": [
            "       user_id user_country sex  ... user_income  user_segmentation  use_time\n",
            "0        16074           ES   V  ...    53478.18  02 - PARTICULARES      2529\n",
            "1        16095           ES   V  ...         NaN           01 - TOP      7766\n",
            "2        16117           ES   V  ...   465589.68  02 - PARTICULARES      7765\n",
            "3        16181           ES   H  ...   134978.88  02 - PARTICULARES      7378\n",
            "4        16308           ES   V  ...   175988.07  02 - PARTICULARES      7565\n",
            "...        ...          ...  ..  ...         ...                ...       ...\n",
            "39692  1548081           ES   H  ...         NaN  02 - PARTICULARES        30\n",
            "39693  1548083           ES   V  ...         NaN            unknown         0\n",
            "39694  1548094           ES   H  ...         NaN            unknown        -1\n",
            "39695  1548100           ES   H  ...         NaN  02 - PARTICULARES        29\n",
            "39696  1548191           ES   H  ...         NaN            unknown        -1\n",
            "\n",
            "[39697 rows x 14 columns]\n"
          ],
          "name": "stdout"
        }
      ]
    },
    {
      "cell_type": "code",
      "metadata": {
        "colab": {
          "base_uri": "https://localhost:8080/"
        },
        "id": "xD2aLNcIQyDn",
        "outputId": "3aeb081f-da83-49fa-dc56-ee96f6e51a8a"
      },
      "source": [
        "#对用户信息特征列进行labelencoder\n",
        "user_data1 = user_data[['user_id','sex','age','province_code','user_segmentation','user_income']]\n",
        "from sklearn.preprocessing import LabelEncoder\n",
        "lbe_sex = LabelEncoder()\n",
        "user_data1['sex'] = lbe_sex.fit_transform(user_data1['sex'])\n",
        "lbe_province_code = LabelEncoder()\n",
        "user_data1['province_code'] = lbe_province_code.fit_transform(user_data1['province_code'])\n",
        "lbe_user_segmentation = LabelEncoder()\n",
        "user_data1['user_segmentation'] = lbe_user_segmentation.fit_transform(user_data1['user_segmentation'])\n",
        "user_data1['age'] = user_data1['age'].astype('int16')\n",
        "print(user_data1)"
      ],
      "execution_count": 7,
      "outputs": [
        {
          "output_type": "stream",
          "text": [
            "       user_id  sex  age  province_code  user_segmentation  user_income\n",
            "0        16074    1   47             27                  1     53478.18\n",
            "1        16095    1   74             27                  0          NaN\n",
            "2        16117    1   57             27                  1    465589.68\n",
            "3        16181    0   77             27                  1    134978.88\n",
            "4        16308    1   47             27                  1    175988.07\n",
            "...        ...  ...  ...            ...                ...          ...\n",
            "39692  1548081    0   44             20                  1          NaN\n",
            "39693  1548083    1   22              6                  3          NaN\n",
            "39694  1548094    0   56              2                  3          NaN\n",
            "39695  1548100    0   54             28                  1          NaN\n",
            "39696  1548191    0   70             27                  3          NaN\n",
            "\n",
            "[39697 rows x 6 columns]\n"
          ],
          "name": "stdout"
        },
        {
          "output_type": "stream",
          "text": [
            "/usr/local/lib/python3.7/dist-packages/ipykernel_launcher.py:5: SettingWithCopyWarning: \n",
            "A value is trying to be set on a copy of a slice from a DataFrame.\n",
            "Try using .loc[row_indexer,col_indexer] = value instead\n",
            "\n",
            "See the caveats in the documentation: https://pandas.pydata.org/pandas-docs/stable/user_guide/indexing.html#returning-a-view-versus-a-copy\n",
            "  \"\"\"\n",
            "/usr/local/lib/python3.7/dist-packages/ipykernel_launcher.py:7: SettingWithCopyWarning: \n",
            "A value is trying to be set on a copy of a slice from a DataFrame.\n",
            "Try using .loc[row_indexer,col_indexer] = value instead\n",
            "\n",
            "See the caveats in the documentation: https://pandas.pydata.org/pandas-docs/stable/user_guide/indexing.html#returning-a-view-versus-a-copy\n",
            "  import sys\n",
            "/usr/local/lib/python3.7/dist-packages/ipykernel_launcher.py:9: SettingWithCopyWarning: \n",
            "A value is trying to be set on a copy of a slice from a DataFrame.\n",
            "Try using .loc[row_indexer,col_indexer] = value instead\n",
            "\n",
            "See the caveats in the documentation: https://pandas.pydata.org/pandas-docs/stable/user_guide/indexing.html#returning-a-view-versus-a-copy\n",
            "  if __name__ == '__main__':\n",
            "/usr/local/lib/python3.7/dist-packages/ipykernel_launcher.py:10: SettingWithCopyWarning: \n",
            "A value is trying to be set on a copy of a slice from a DataFrame.\n",
            "Try using .loc[row_indexer,col_indexer] = value instead\n",
            "\n",
            "See the caveats in the documentation: https://pandas.pydata.org/pandas-docs/stable/user_guide/indexing.html#returning-a-view-versus-a-copy\n",
            "  # Remove the CWD from sys.path while we load stuff.\n"
          ],
          "name": "stderr"
        }
      ]
    },
    {
      "cell_type": "code",
      "metadata": {
        "colab": {
          "base_uri": "https://localhost:8080/"
        },
        "id": "k528rgsoQ6T5",
        "outputId": "b3114fcc-2d99-4565-c1bf-fa718cdc5b97"
      },
      "source": [
        "#将存在收入数据的用户信息作为训练集，不存在收入数据的用户信息作为预测集\n",
        "user_data_train = user_data1.dropna()\n",
        "user_data_train['user_income'] = user_data_train['user_income'].astype('int64')\n",
        "user_data_predict = user_data1[user_data1.user_income.isnull()]"
      ],
      "execution_count": 8,
      "outputs": [
        {
          "output_type": "stream",
          "text": [
            "/usr/local/lib/python3.7/dist-packages/ipykernel_launcher.py:3: SettingWithCopyWarning: \n",
            "A value is trying to be set on a copy of a slice from a DataFrame.\n",
            "Try using .loc[row_indexer,col_indexer] = value instead\n",
            "\n",
            "See the caveats in the documentation: https://pandas.pydata.org/pandas-docs/stable/user_guide/indexing.html#returning-a-view-versus-a-copy\n",
            "  This is separate from the ipykernel package so we can avoid doing imports until\n"
          ],
          "name": "stderr"
        }
      ]
    },
    {
      "cell_type": "code",
      "metadata": {
        "colab": {
          "base_uri": "https://localhost:8080/"
        },
        "id": "-P_dOmIJRBw5",
        "outputId": "2ef15842-1902-417c-8677-8b897c4462b5"
      },
      "source": [
        "print(user_data_train)"
      ],
      "execution_count": 9,
      "outputs": [
        {
          "output_type": "stream",
          "text": [
            "       user_id  sex  age  province_code  user_segmentation  user_income\n",
            "0        16074    1   47             27                  1        53478\n",
            "2        16117    1   57             27                  1       465589\n",
            "3        16181    0   77             27                  1       134978\n",
            "4        16308    1   47             27                  1       175988\n",
            "5        16339    1   55             27                  0       197736\n",
            "...        ...  ...  ...            ...                ...          ...\n",
            "36184  1454440    0   24             27                  2        85797\n",
            "36185  1454443    1   21             26                  2        96142\n",
            "36186  1454499    1   20             27                  1       194682\n",
            "36187  1454504    0   20             14                  2        54385\n",
            "36188  1454511    1   28             14                  2       202631\n",
            "\n",
            "[29850 rows x 6 columns]\n"
          ],
          "name": "stdout"
        }
      ]
    },
    {
      "cell_type": "code",
      "metadata": {
        "colab": {
          "base_uri": "https://localhost:8080/"
        },
        "id": "uM59vCsURF8_",
        "outputId": "027cbc71-48d7-43c9-f74a-401125bb75d1"
      },
      "source": [
        "print(user_data_predict)"
      ],
      "execution_count": 10,
      "outputs": [
        {
          "output_type": "stream",
          "text": [
            "       user_id  sex  age  province_code  user_segmentation  user_income\n",
            "1        16095    1   74             27                  0          NaN\n",
            "32       17453    0   75             27                  1          NaN\n",
            "41       17701    1   53             27                  1          NaN\n",
            "53       18024    1   60             27                  1          NaN\n",
            "58       18288    1   70             38                  1          NaN\n",
            "...        ...  ...  ...            ...                ...          ...\n",
            "39692  1548081    0   44             20                  1          NaN\n",
            "39693  1548083    1   22              6                  3          NaN\n",
            "39694  1548094    0   56              2                  3          NaN\n",
            "39695  1548100    0   54             28                  1          NaN\n",
            "39696  1548191    0   70             27                  3          NaN\n",
            "\n",
            "[9847 rows x 6 columns]\n"
          ],
          "name": "stdout"
        }
      ]
    },
    {
      "cell_type": "code",
      "metadata": {
        "id": "lxesNhbRRLkm"
      },
      "source": [
        "user_data_predict = user_data_predict.drop('user_income',axis =1)"
      ],
      "execution_count": 11,
      "outputs": []
    },
    {
      "cell_type": "code",
      "metadata": {
        "colab": {
          "base_uri": "https://localhost:8080/"
        },
        "id": "GxaA0It0RQaW",
        "outputId": "91ce560f-17e4-44de-bf72-d083ee068793"
      },
      "source": [
        "#将训练集中收入偏差均值3个标准差以外的收入数据进行剔除\n",
        "user_income_mean = user_data_train['user_income'].mean()\n",
        "print(user_income_mean)\n",
        "user_income_std = user_data_train['user_income'].std()\n",
        "print(user_income_std)\n",
        "user_income_max = int(user_income_mean + 3 * user_income_std)\n",
        "print(user_income_max)"
      ],
      "execution_count": 12,
      "outputs": [
        {
          "output_type": "stream",
          "text": [
            "136586.759798995\n",
            "320021.55237731023\n",
            "1096651\n"
          ],
          "name": "stdout"
        }
      ]
    },
    {
      "cell_type": "code",
      "metadata": {
        "colab": {
          "base_uri": "https://localhost:8080/"
        },
        "id": "QRKxg4y9RUQh",
        "outputId": "1583c13d-3e20-44d5-af72-cf878c479a9e"
      },
      "source": [
        "user_data_train1 = user_data_train[user_data_train.user_income < user_income_max]\n",
        "print(user_data_train1)"
      ],
      "execution_count": 13,
      "outputs": [
        {
          "output_type": "stream",
          "text": [
            "       user_id  sex  age  province_code  user_segmentation  user_income\n",
            "0        16074    1   47             27                  1        53478\n",
            "2        16117    1   57             27                  1       465589\n",
            "3        16181    0   77             27                  1       134978\n",
            "4        16308    1   47             27                  1       175988\n",
            "5        16339    1   55             27                  0       197736\n",
            "...        ...  ...  ...            ...                ...          ...\n",
            "36184  1454440    0   24             27                  2        85797\n",
            "36185  1454443    1   21             26                  2        96142\n",
            "36186  1454499    1   20             27                  1       194682\n",
            "36187  1454504    0   20             14                  2        54385\n",
            "36188  1454511    1   28             14                  2       202631\n",
            "\n",
            "[29786 rows x 6 columns]\n"
          ],
          "name": "stdout"
        }
      ]
    },
    {
      "cell_type": "code",
      "metadata": {
        "colab": {
          "base_uri": "https://localhost:8080/"
        },
        "id": "-02PBC1LRX_H",
        "outputId": "230996b1-e74c-4072-cda7-e640b7d473e8"
      },
      "source": [
        "#进行xgboost预测\n",
        "import xgboost as xgb\n",
        "from sklearn.model_selection import train_test_split\n",
        "\n",
        "param = {'boosting_type':'gbdt',\n",
        "                         'objective' : 'reg:linear', \n",
        "                         'eval_metric' : 'rmse',\n",
        "                         'eta' : 0.01,\n",
        "                         'max_depth' : 10,\n",
        "                         'colsample_bytree':0.8,\n",
        "                         'subsample': 0.9,\n",
        "                         'subsample_freq': 8,\n",
        "                         #'alpha': 0.6,\n",
        "                         'lambda': 2,\n",
        "        }\n",
        "user_data_predict1 = xgb.DMatrix(user_data_predict[['sex','age','province_code','user_segmentation']])\n",
        "#for name in col_name:\n",
        "X_train, X_valid, y_train, y_valid = train_test_split(user_data_train1.drop(['user_income','user_id'],axis=1), user_data_train1['user_income']\n",
        "                                                      , test_size=0.2, random_state=2020)\n",
        "\n",
        "train_data = xgb.DMatrix(X_train, label=y_train)\n",
        "valid_data = xgb.DMatrix(X_valid, label=y_valid)\n",
        "\n",
        "model = xgb.train(param, train_data, evals=[(train_data, 'train'), (valid_data, 'valid')], num_boost_round = 10000, early_stopping_rounds=200, verbose_eval=25)\n",
        "\n",
        "predict = model.predict(user_data_predict1)"
      ],
      "execution_count": 14,
      "outputs": [
        {
          "output_type": "stream",
          "text": [
            "[14:01:20] WARNING: /workspace/src/objective/regression_obj.cu:152: reg:linear is now deprecated in favor of reg:squarederror.\n",
            "[0]\ttrain-rmse:162561\tvalid-rmse:163331\n",
            "Multiple eval metrics have been passed: 'valid-rmse' will be used for early stopping.\n",
            "\n",
            "Will train until valid-rmse hasn't improved in 200 rounds.\n",
            "[25]\ttrain-rmse:139879\tvalid-rmse:140810\n",
            "[50]\ttrain-rmse:123642\tvalid-rmse:124777\n",
            "[75]\ttrain-rmse:112524\tvalid-rmse:113934\n",
            "[100]\ttrain-rmse:105082\tvalid-rmse:106734\n",
            "[125]\ttrain-rmse:100271\tvalid-rmse:102123\n",
            "[150]\ttrain-rmse:97076.2\tvalid-rmse:99134.4\n",
            "[175]\ttrain-rmse:94956.1\tvalid-rmse:97235.3\n",
            "[200]\ttrain-rmse:93585.6\tvalid-rmse:96055.6\n",
            "[225]\ttrain-rmse:92659.8\tvalid-rmse:95342\n",
            "[250]\ttrain-rmse:92065.2\tvalid-rmse:94890.7\n",
            "[275]\ttrain-rmse:91642.2\tvalid-rmse:94621.5\n",
            "[300]\ttrain-rmse:91325.2\tvalid-rmse:94476.2\n",
            "[325]\ttrain-rmse:91119.5\tvalid-rmse:94388.1\n",
            "[350]\ttrain-rmse:90928.2\tvalid-rmse:94356.2\n",
            "[375]\ttrain-rmse:90797.5\tvalid-rmse:94347\n",
            "[400]\ttrain-rmse:90678.9\tvalid-rmse:94353.1\n",
            "[425]\ttrain-rmse:90574.1\tvalid-rmse:94371.7\n",
            "[450]\ttrain-rmse:90502.8\tvalid-rmse:94394.2\n",
            "[475]\ttrain-rmse:90433.9\tvalid-rmse:94412.3\n",
            "[500]\ttrain-rmse:90363.1\tvalid-rmse:94433.1\n",
            "[525]\ttrain-rmse:90306.1\tvalid-rmse:94465.6\n",
            "[550]\ttrain-rmse:90242.5\tvalid-rmse:94491.1\n",
            "Stopping. Best iteration:\n",
            "[365]\ttrain-rmse:90852.2\tvalid-rmse:94343.9\n",
            "\n"
          ],
          "name": "stdout"
        }
      ]
    },
    {
      "cell_type": "code",
      "metadata": {
        "id": "S__OyY2mRjfk"
      },
      "source": [
        "user_data_predict['user_income'] = predict"
      ],
      "execution_count": 15,
      "outputs": []
    },
    {
      "cell_type": "code",
      "metadata": {
        "colab": {
          "base_uri": "https://localhost:8080/"
        },
        "id": "ASgSACyZRq4Q",
        "outputId": "d5d557b0-def9-4ab1-e46d-0d5aed3e3e9d"
      },
      "source": [
        "print(user_data_predict)"
      ],
      "execution_count": 16,
      "outputs": [
        {
          "output_type": "stream",
          "text": [
            "       user_id  sex  age  province_code  user_segmentation    user_income\n",
            "1        16095    1   74             27                  0  221232.640625\n",
            "32       17453    0   75             27                  1  154347.875000\n",
            "41       17701    1   53             27                  1  165267.593750\n",
            "53       18024    1   60             27                  1  167669.328125\n",
            "58       18288    1   70             38                  1  134357.640625\n",
            "...        ...  ...  ...            ...                ...            ...\n",
            "39692  1548081    0   44             20                  1   82145.382812\n",
            "39693  1548083    1   22              6                  3  157018.937500\n",
            "39694  1548094    0   56              2                  3   76976.218750\n",
            "39695  1548100    0   54             28                  1   97123.851562\n",
            "39696  1548191    0   70             27                  3  100967.968750\n",
            "\n",
            "[9847 rows x 6 columns]\n"
          ],
          "name": "stdout"
        }
      ]
    },
    {
      "cell_type": "code",
      "metadata": {
        "id": "Xrm83i5yRtve"
      },
      "source": [
        "user_data_predict['user_income'] = user_data_predict['user_income'].astype('int64')"
      ],
      "execution_count": 17,
      "outputs": []
    },
    {
      "cell_type": "code",
      "metadata": {
        "colab": {
          "base_uri": "https://localhost:8080/"
        },
        "id": "afCrFHRaRxAV",
        "outputId": "9122794b-ad0a-473e-d2f3-ca8005ba1b58"
      },
      "source": [
        "print(user_data_train)"
      ],
      "execution_count": 18,
      "outputs": [
        {
          "output_type": "stream",
          "text": [
            "       user_id  sex  age  province_code  user_segmentation  user_income\n",
            "0        16074    1   47             27                  1        53478\n",
            "2        16117    1   57             27                  1       465589\n",
            "3        16181    0   77             27                  1       134978\n",
            "4        16308    1   47             27                  1       175988\n",
            "5        16339    1   55             27                  0       197736\n",
            "...        ...  ...  ...            ...                ...          ...\n",
            "36184  1454440    0   24             27                  2        85797\n",
            "36185  1454443    1   21             26                  2        96142\n",
            "36186  1454499    1   20             27                  1       194682\n",
            "36187  1454504    0   20             14                  2        54385\n",
            "36188  1454511    1   28             14                  2       202631\n",
            "\n",
            "[29850 rows x 6 columns]\n"
          ],
          "name": "stdout"
        }
      ]
    },
    {
      "cell_type": "code",
      "metadata": {
        "colab": {
          "base_uri": "https://localhost:8080/"
        },
        "id": "u2ZwVv7KR1Ym",
        "outputId": "6c1a2664-dc23-4b67-e774-a23db2c484ae"
      },
      "source": [
        "print(user_data_predict)"
      ],
      "execution_count": 19,
      "outputs": [
        {
          "output_type": "stream",
          "text": [
            "       user_id  sex  age  province_code  user_segmentation  user_income\n",
            "1        16095    1   74             27                  0       221232\n",
            "32       17453    0   75             27                  1       154347\n",
            "41       17701    1   53             27                  1       165267\n",
            "53       18024    1   60             27                  1       167669\n",
            "58       18288    1   70             38                  1       134357\n",
            "...        ...  ...  ...            ...                ...          ...\n",
            "39692  1548081    0   44             20                  1        82145\n",
            "39693  1548083    1   22              6                  3       157018\n",
            "39694  1548094    0   56              2                  3        76976\n",
            "39695  1548100    0   54             28                  1        97123\n",
            "39696  1548191    0   70             27                  3       100967\n",
            "\n",
            "[9847 rows x 6 columns]\n"
          ],
          "name": "stdout"
        }
      ]
    },
    {
      "cell_type": "code",
      "metadata": {
        "id": "qkqOTV_wR5nY"
      },
      "source": [
        "user_data_all = pd.concat([user_data_train,user_data_predict],ignore_index = True)"
      ],
      "execution_count": 20,
      "outputs": []
    },
    {
      "cell_type": "code",
      "metadata": {
        "colab": {
          "base_uri": "https://localhost:8080/"
        },
        "id": "6jGtjuo6R9bH",
        "outputId": "f6d864a5-9522-4706-b761-4e52a255bda9"
      },
      "source": [
        "print(user_data_all)"
      ],
      "execution_count": 21,
      "outputs": [
        {
          "output_type": "stream",
          "text": [
            "       user_id  sex  age  province_code  user_segmentation  user_income\n",
            "0        16074    1   47             27                  1        53478\n",
            "1        16117    1   57             27                  1       465589\n",
            "2        16181    0   77             27                  1       134978\n",
            "3        16308    1   47             27                  1       175988\n",
            "4        16339    1   55             27                  0       197736\n",
            "...        ...  ...  ...            ...                ...          ...\n",
            "39692  1548081    0   44             20                  1        82145\n",
            "39693  1548083    1   22              6                  3       157018\n",
            "39694  1548094    0   56              2                  3        76976\n",
            "39695  1548100    0   54             28                  1        97123\n",
            "39696  1548191    0   70             27                  3       100967\n",
            "\n",
            "[39697 rows x 6 columns]\n"
          ],
          "name": "stdout"
        }
      ]
    },
    {
      "cell_type": "code",
      "metadata": {
        "colab": {
          "base_uri": "https://localhost:8080/"
        },
        "id": "84LIFh0-SBzB",
        "outputId": "1d2c214b-13b7-49f2-96b2-5ced2a578e3d"
      },
      "source": [
        "print(data)"
      ],
      "execution_count": 22,
      "outputs": [
        {
          "output_type": "stream",
          "text": [
            "             date  user_id user_country sex  ... item_23  item_24 origin  use_time\n",
            "0      2015-01-28  1050676           ES   V  ...     0.0      0.0  train       901\n",
            "1      2015-01-28  1050662           ES   V  ...     0.0      0.0  train       901\n",
            "2      2015-01-28  1050652           ES   H  ...     0.0      1.0  train       901\n",
            "3      2015-01-28  1050489           ES   H  ...     0.0      0.0  train       901\n",
            "4      2015-01-28  1050490           ES   V  ...     0.0      0.0  train       901\n",
            "...           ...      ...          ...  ..  ...     ...      ...    ...       ...\n",
            "562927 2016-05-28  1166847           ES   V  ...     NaN      NaN   test      1018\n",
            "562928 2016-05-28  1166605           ES   V  ...     NaN      NaN   test      1018\n",
            "562929 2016-05-28  1166829           ES   V  ...     NaN      NaN   test      1018\n",
            "562930 2016-05-28  1166827           ES   H  ...     NaN      NaN   test      1018\n",
            "562931 2016-05-28  1166781           ES   H  ...     NaN      NaN   test      1018\n",
            "\n",
            "[561786 rows x 43 columns]\n"
          ],
          "name": "stdout"
        }
      ]
    },
    {
      "cell_type": "code",
      "metadata": {
        "colab": {
          "base_uri": "https://localhost:8080/"
        },
        "id": "z8ThjrIaSHyM",
        "outputId": "de034b2e-29a8-48bf-c648-6a3790562060"
      },
      "source": [
        "user_data_all = user_data_all.drop(['sex','age','province_code','user_segmentation'],axis =1)\n",
        "print(user_data_all)"
      ],
      "execution_count": 23,
      "outputs": [
        {
          "output_type": "stream",
          "text": [
            "       user_id  user_income\n",
            "0        16074        53478\n",
            "1        16117       465589\n",
            "2        16181       134978\n",
            "3        16308       175988\n",
            "4        16339       197736\n",
            "...        ...          ...\n",
            "39692  1548081        82145\n",
            "39693  1548083       157018\n",
            "39694  1548094        76976\n",
            "39695  1548100        97123\n",
            "39696  1548191       100967\n",
            "\n",
            "[39697 rows x 2 columns]\n"
          ],
          "name": "stdout"
        }
      ]
    },
    {
      "cell_type": "code",
      "metadata": {
        "id": "INpjQMD2SO-r"
      },
      "source": [
        "#将预测的收入数据填补进原有的数据集中\n",
        "data = data.drop('user_income',axis=1)\n",
        "data = pd.merge(data,user_data_all,how='left')"
      ],
      "execution_count": 24,
      "outputs": []
    },
    {
      "cell_type": "code",
      "metadata": {
        "colab": {
          "base_uri": "https://localhost:8080/"
        },
        "id": "9Wh16DgpSR5h",
        "outputId": "48bb00a9-a2ac-4743-afa5-a20e02a09001"
      },
      "source": [
        "print(data)"
      ],
      "execution_count": 25,
      "outputs": [
        {
          "output_type": "stream",
          "text": [
            "             date  user_id user_country  ... origin use_time  user_income\n",
            "0      2015-01-28  1050676           ES  ...  train      901        90431\n",
            "1      2015-01-28  1050662           ES  ...  train      901       122456\n",
            "2      2015-01-28  1050652           ES  ...  train      901       149099\n",
            "3      2015-01-28  1050489           ES  ...  train      901       158207\n",
            "4      2015-01-28  1050490           ES  ...  train      901        68574\n",
            "...           ...      ...          ...  ...    ...      ...          ...\n",
            "561781 2016-05-28  1166847           ES  ...   test     1018        88937\n",
            "561782 2016-05-28  1166605           ES  ...   test     1018        92776\n",
            "561783 2016-05-28  1166829           ES  ...   test     1018        96488\n",
            "561784 2016-05-28  1166827           ES  ...   test     1018        30303\n",
            "561785 2016-05-28  1166781           ES  ...   test     1018        66748\n",
            "\n",
            "[561786 rows x 43 columns]\n"
          ],
          "name": "stdout"
        }
      ]
    },
    {
      "cell_type": "code",
      "metadata": {
        "id": "-qJnnZJVSYW6"
      },
      "source": [
        "train_data_new = data[data.origin == 'train']\n",
        "test_data_new = data[data.origin == 'test']\n",
        "train_data_new.to_csv('/content/gdrive/My Drive/Product/sant/train_update.csv',index = 0)\n",
        "test_data_new.to_csv('/content/gdrive/My Drive/Product/sant/test_update.csv',index = 0)"
      ],
      "execution_count": 27,
      "outputs": []
    }
  ]
}