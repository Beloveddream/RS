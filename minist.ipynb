{
  "nbformat": 4,
  "nbformat_minor": 0,
  "metadata": {
    "colab": {
      "name": "minist.ipynb",
      "provenance": [],
      "authorship_tag": "ABX9TyN3Rd1ohB62rjnrcrb2QmfK",
      "include_colab_link": true
    },
    "kernelspec": {
      "name": "python3",
      "display_name": "Python 3"
    },
    "language_info": {
      "name": "python"
    },
    "accelerator": "GPU",
    "widgets": {
      "application/vnd.jupyter.widget-state+json": {
        "34a63f0174024004ae5d4f15f8858b0f": {
          "model_module": "@jupyter-widgets/controls",
          "model_name": "HBoxModel",
          "state": {
            "_view_name": "HBoxView",
            "_dom_classes": [],
            "_model_name": "HBoxModel",
            "_view_module": "@jupyter-widgets/controls",
            "_model_module_version": "1.5.0",
            "_view_count": null,
            "_view_module_version": "1.5.0",
            "box_style": "",
            "layout": "IPY_MODEL_e43d7fb3529c49e9ba845e36b2ab37e2",
            "_model_module": "@jupyter-widgets/controls",
            "children": [
              "IPY_MODEL_7c0f61bb6a5543ad9344aea94859ccd7",
              "IPY_MODEL_7855133ac1b3430fb75bfe9f71f8bc2c"
            ]
          }
        },
        "e43d7fb3529c49e9ba845e36b2ab37e2": {
          "model_module": "@jupyter-widgets/base",
          "model_name": "LayoutModel",
          "state": {
            "_view_name": "LayoutView",
            "grid_template_rows": null,
            "right": null,
            "justify_content": null,
            "_view_module": "@jupyter-widgets/base",
            "overflow": null,
            "_model_module_version": "1.2.0",
            "_view_count": null,
            "flex_flow": null,
            "width": null,
            "min_width": null,
            "border": null,
            "align_items": null,
            "bottom": null,
            "_model_module": "@jupyter-widgets/base",
            "top": null,
            "grid_column": null,
            "overflow_y": null,
            "overflow_x": null,
            "grid_auto_flow": null,
            "grid_area": null,
            "grid_template_columns": null,
            "flex": null,
            "_model_name": "LayoutModel",
            "justify_items": null,
            "grid_row": null,
            "max_height": null,
            "align_content": null,
            "visibility": null,
            "align_self": null,
            "height": null,
            "min_height": null,
            "padding": null,
            "grid_auto_rows": null,
            "grid_gap": null,
            "max_width": null,
            "order": null,
            "_view_module_version": "1.2.0",
            "grid_template_areas": null,
            "object_position": null,
            "object_fit": null,
            "grid_auto_columns": null,
            "margin": null,
            "display": null,
            "left": null
          }
        },
        "7c0f61bb6a5543ad9344aea94859ccd7": {
          "model_module": "@jupyter-widgets/controls",
          "model_name": "FloatProgressModel",
          "state": {
            "_view_name": "ProgressView",
            "style": "IPY_MODEL_bb1691439acf43cb9a064070a994c315",
            "_dom_classes": [],
            "description": "Optimization Progress: ",
            "_model_name": "FloatProgressModel",
            "bar_style": "",
            "max": 120,
            "_view_module": "@jupyter-widgets/controls",
            "_model_module_version": "1.5.0",
            "value": 120,
            "_view_count": null,
            "_view_module_version": "1.5.0",
            "orientation": "horizontal",
            "min": 0,
            "description_tooltip": null,
            "_model_module": "@jupyter-widgets/controls",
            "layout": "IPY_MODEL_f7077285af1546f8a518792ecaa4998c"
          }
        },
        "7855133ac1b3430fb75bfe9f71f8bc2c": {
          "model_module": "@jupyter-widgets/controls",
          "model_name": "HTMLModel",
          "state": {
            "_view_name": "HTMLView",
            "style": "IPY_MODEL_8e5550d8c3a94a31a5cfd576fa14ff12",
            "_dom_classes": [],
            "description": "",
            "_model_name": "HTMLModel",
            "placeholder": "​",
            "_view_module": "@jupyter-widgets/controls",
            "_model_module_version": "1.5.0",
            "value": " 121/? [17:27&lt;00:00,  2.79s/pipeline]",
            "_view_count": null,
            "_view_module_version": "1.5.0",
            "description_tooltip": null,
            "_model_module": "@jupyter-widgets/controls",
            "layout": "IPY_MODEL_9dbb58ebc74c428faa864b711513324b"
          }
        },
        "bb1691439acf43cb9a064070a994c315": {
          "model_module": "@jupyter-widgets/controls",
          "model_name": "ProgressStyleModel",
          "state": {
            "_view_name": "StyleView",
            "_model_name": "ProgressStyleModel",
            "description_width": "initial",
            "_view_module": "@jupyter-widgets/base",
            "_model_module_version": "1.5.0",
            "_view_count": null,
            "_view_module_version": "1.2.0",
            "bar_color": null,
            "_model_module": "@jupyter-widgets/controls"
          }
        },
        "f7077285af1546f8a518792ecaa4998c": {
          "model_module": "@jupyter-widgets/base",
          "model_name": "LayoutModel",
          "state": {
            "_view_name": "LayoutView",
            "grid_template_rows": null,
            "right": null,
            "justify_content": null,
            "_view_module": "@jupyter-widgets/base",
            "overflow": null,
            "_model_module_version": "1.2.0",
            "_view_count": null,
            "flex_flow": null,
            "width": null,
            "min_width": null,
            "border": null,
            "align_items": null,
            "bottom": null,
            "_model_module": "@jupyter-widgets/base",
            "top": null,
            "grid_column": null,
            "overflow_y": null,
            "overflow_x": null,
            "grid_auto_flow": null,
            "grid_area": null,
            "grid_template_columns": null,
            "flex": null,
            "_model_name": "LayoutModel",
            "justify_items": null,
            "grid_row": null,
            "max_height": null,
            "align_content": null,
            "visibility": null,
            "align_self": null,
            "height": null,
            "min_height": null,
            "padding": null,
            "grid_auto_rows": null,
            "grid_gap": null,
            "max_width": null,
            "order": null,
            "_view_module_version": "1.2.0",
            "grid_template_areas": null,
            "object_position": null,
            "object_fit": null,
            "grid_auto_columns": null,
            "margin": null,
            "display": null,
            "left": null
          }
        },
        "8e5550d8c3a94a31a5cfd576fa14ff12": {
          "model_module": "@jupyter-widgets/controls",
          "model_name": "DescriptionStyleModel",
          "state": {
            "_view_name": "StyleView",
            "_model_name": "DescriptionStyleModel",
            "description_width": "",
            "_view_module": "@jupyter-widgets/base",
            "_model_module_version": "1.5.0",
            "_view_count": null,
            "_view_module_version": "1.2.0",
            "_model_module": "@jupyter-widgets/controls"
          }
        },
        "9dbb58ebc74c428faa864b711513324b": {
          "model_module": "@jupyter-widgets/base",
          "model_name": "LayoutModel",
          "state": {
            "_view_name": "LayoutView",
            "grid_template_rows": null,
            "right": null,
            "justify_content": null,
            "_view_module": "@jupyter-widgets/base",
            "overflow": null,
            "_model_module_version": "1.2.0",
            "_view_count": null,
            "flex_flow": null,
            "width": null,
            "min_width": null,
            "border": null,
            "align_items": null,
            "bottom": null,
            "_model_module": "@jupyter-widgets/base",
            "top": null,
            "grid_column": null,
            "overflow_y": null,
            "overflow_x": null,
            "grid_auto_flow": null,
            "grid_area": null,
            "grid_template_columns": null,
            "flex": null,
            "_model_name": "LayoutModel",
            "justify_items": null,
            "grid_row": null,
            "max_height": null,
            "align_content": null,
            "visibility": null,
            "align_self": null,
            "height": null,
            "min_height": null,
            "padding": null,
            "grid_auto_rows": null,
            "grid_gap": null,
            "max_width": null,
            "order": null,
            "_view_module_version": "1.2.0",
            "grid_template_areas": null,
            "object_position": null,
            "object_fit": null,
            "grid_auto_columns": null,
            "margin": null,
            "display": null,
            "left": null
          }
        }
      }
    }
  },
  "cells": [
    {
      "cell_type": "markdown",
      "metadata": {
        "id": "view-in-github",
        "colab_type": "text"
      },
      "source": [
        "<a href=\"https://colab.research.google.com/github/Beloveddream/RS/blob/main/minist.ipynb\" target=\"_parent\"><img src=\"https://colab.research.google.com/assets/colab-badge.svg\" alt=\"Open In Colab\"/></a>"
      ]
    },
    {
      "cell_type": "code",
      "metadata": {
        "id": "Iirt9tgLjDtu",
        "colab": {
          "base_uri": "https://localhost:8080/"
        },
        "outputId": "70deddb7-6ff4-442d-8ad2-20ca00a29b9a"
      },
      "source": [
        "import tensorflow as tf\n",
        "print(tf.__version__)"
      ],
      "execution_count": 1,
      "outputs": [
        {
          "output_type": "stream",
          "text": [
            "2.5.0\n"
          ],
          "name": "stdout"
        }
      ]
    },
    {
      "cell_type": "code",
      "metadata": {
        "colab": {
          "base_uri": "https://localhost:8080/"
        },
        "id": "CaJ48efYloBT",
        "outputId": "af3447ac-2fff-4232-bd95-bf450a1c5eff"
      },
      "source": [
        "from google.colab import drive\n",
        "drive.mount('/content/gdrive')"
      ],
      "execution_count": 2,
      "outputs": [
        {
          "output_type": "stream",
          "text": [
            "Mounted at /content/gdrive\n"
          ],
          "name": "stdout"
        }
      ]
    },
    {
      "cell_type": "markdown",
      "metadata": {
        "id": "RGc9or1lD4qa"
      },
      "source": [
        "**使用LeNet模型对Mnist手写数字进行识别**"
      ]
    },
    {
      "cell_type": "code",
      "metadata": {
        "id": "Uqi5T3yal72y"
      },
      "source": [
        "# 使用LeNet模型对Mnist手写数字进行识别\n",
        "from tensorflow.keras import layers\n",
        "from tensorflow.keras.datasets import mnist\n",
        "from tensorflow.keras.layers import Conv2D, MaxPooling2D\n",
        "from tensorflow.keras.layers import Dense, Flatten\n",
        "from tensorflow.keras.models import Sequential\n",
        "import numpy as np"
      ],
      "execution_count": 3,
      "outputs": []
    },
    {
      "cell_type": "code",
      "metadata": {
        "colab": {
          "base_uri": "https://localhost:8080/"
        },
        "id": "ao5P7nslmYrp",
        "outputId": "eb7575b5-498b-4098-ecdf-d4d093e0d473"
      },
      "source": [
        "# 数据加载\n",
        "#(train_x, train_y), (test_x, test_y) = mnist.load_data() #从网上下载数据集\n",
        "data = np.load(\"/content/gdrive/My Drive/les1/mnist.npz\") #从本地读取数据集\n",
        "print(data.files)\n",
        "train_x, train_y, test_x, test_y  = data['x_train'], data['y_train'], data['x_test'], data['y_test']\n"
      ],
      "execution_count": 4,
      "outputs": [
        {
          "output_type": "stream",
          "text": [
            "['x_test', 'x_train', 'y_train', 'y_test']\n"
          ],
          "name": "stdout"
        }
      ]
    },
    {
      "cell_type": "code",
      "metadata": {
        "id": "xPYvSIuAmtw-"
      },
      "source": [
        "# 输入数据为 mnist 数据集\n",
        "train_x = train_x.reshape(train_x.shape[0], 28, 28, 1)\n",
        "test_x = test_x.reshape(test_x.shape[0], 28, 28, 1)\n",
        "train_x = train_x / 255\n",
        "test_x = test_x / 255\n",
        "train_y = tf.keras.utils.to_categorical(train_y, 10)\n",
        "test_y = tf.keras.utils.to_categorical(test_y, 10)"
      ],
      "execution_count": 5,
      "outputs": []
    },
    {
      "cell_type": "code",
      "metadata": {
        "colab": {
          "base_uri": "https://localhost:8080/"
        },
        "id": "PdAZ2ssrmwXA",
        "outputId": "f5704492-abe5-41eb-8811-0230c77fbff6"
      },
      "source": [
        "# 创建序贯模型\n",
        "model = Sequential()\n",
        "# 第一层卷积层：6个卷积核，大小为5∗5, relu激活函数\n",
        "model.add(Conv2D(6, kernel_size=(5, 5), activation='relu', input_shape=(28, 28, 1)))\n",
        "# 第二层池化层：最大池化\n",
        "model.add(MaxPooling2D(pool_size=(2, 2)))\n",
        "# 第三层卷积层：16个卷积核，大小为5*5，relu激活函数\n",
        "model.add(Conv2D(16, kernel_size=(5, 5), activation='relu'))\n",
        "# 第二层池化层：最大池化\n",
        "model.add(MaxPooling2D(pool_size=(2, 2)))\n",
        "# 将参数进行扁平化，在LeNet5中称之为卷积层，实际上这一层是一维向量，和全连接层一样\n",
        "model.add(Flatten())\n",
        "model.add(Dense(120, activation='relu'))\n",
        "# 全连接层，输出节点个数为84个\n",
        "model.add(Dense(84, activation='relu'))\n",
        "# 输出层 用softmax 激活函数计算分类概率\n",
        "model.add(Dense(10, activation='softmax'))\n",
        "# 设置损失函数和优化器配置\n",
        "model.compile(loss=tf.keras.metrics.categorical_crossentropy, optimizer=tf.keras.optimizers.Adam(), metrics=['accuracy'])\n",
        "# 传入训练数据进行训练\n",
        "model.fit(train_x, train_y, batch_size=128, epochs=2, verbose=1, validation_data=(test_x, test_y))\n",
        "# 对结果进行评估\n",
        "score = model.evaluate(test_x, test_y)\n",
        "print('误差:%0.4lf' %score[0])\n",
        "print('准确率:', score[1])"
      ],
      "execution_count": 6,
      "outputs": [
        {
          "output_type": "stream",
          "text": [
            "Epoch 1/2\n",
            "469/469 [==============================] - 32s 7ms/step - loss: 0.3102 - accuracy: 0.9077 - val_loss: 0.0933 - val_accuracy: 0.9714\n",
            "Epoch 2/2\n",
            "469/469 [==============================] - 3s 6ms/step - loss: 0.0878 - accuracy: 0.9724 - val_loss: 0.0749 - val_accuracy: 0.9774\n",
            "313/313 [==============================] - 1s 3ms/step - loss: 0.0749 - accuracy: 0.9774\n",
            "误差:0.0749\n",
            "准确率: 0.977400004863739\n"
          ],
          "name": "stdout"
        }
      ]
    },
    {
      "cell_type": "code",
      "metadata": {
        "id": "k_93Ra6DCQe8"
      },
      "source": [
        "# -*- coding: utf-8 -*-\n",
        "# 使用LR进行MNIST手写数字分类\n",
        "from sklearn.model_selection import train_test_split\n",
        "from sklearn import preprocessing\n",
        "from sklearn.metrics import accuracy_score\n",
        "from sklearn.datasets import load_digits\n",
        "from sklearn.linear_model import LogisticRegression\n",
        "import matplotlib.pyplot as plt"
      ],
      "execution_count": null,
      "outputs": []
    },
    {
      "cell_type": "code",
      "metadata": {
        "colab": {
          "base_uri": "https://localhost:8080/",
          "height": 449
        },
        "id": "3xXj0aseCVgF",
        "outputId": "238824c2-d6dd-40f5-919c-b87cfa590421"
      },
      "source": [
        "# 加载数据\n",
        "digits = load_digits()\n",
        "data = digits.data\n",
        "# 数据探索\n",
        "print(data.shape)\n",
        "# 查看第一幅图像\n",
        "print(digits.images[1])\n",
        "# 第一幅图像代表的数字含义\n",
        "print(digits.target[1])\n",
        "# 将第一幅图像显示出来\n",
        "plt.gray()\n",
        "plt.title('Handwritten Digits')\n",
        "plt.imshow(digits.images[1])\n",
        "plt.show()"
      ],
      "execution_count": 8,
      "outputs": [
        {
          "output_type": "stream",
          "text": [
            "(1797, 64)\n",
            "[[ 0.  0.  0. 12. 13.  5.  0.  0.]\n",
            " [ 0.  0.  0. 11. 16.  9.  0.  0.]\n",
            " [ 0.  0.  3. 15. 16.  6.  0.  0.]\n",
            " [ 0.  7. 15. 16. 16.  2.  0.  0.]\n",
            " [ 0.  0.  1. 16. 16.  3.  0.  0.]\n",
            " [ 0.  0.  1. 16. 16.  6.  0.  0.]\n",
            " [ 0.  0.  1. 16. 16.  6.  0.  0.]\n",
            " [ 0.  0.  0. 11. 16. 10.  0.  0.]]\n",
            "1\n"
          ],
          "name": "stdout"
        },
        {
          "output_type": "display_data",
          "data": {
            "image/png": "[encoded data removed]",
            "text/plain": [
              "<Figure size 432x288 with 1 Axes>"
            ]
          },
          "metadata": {
            "tags": [],
            "needs_background": "light"
          }
        }
      ]
    },
    {
      "cell_type": "code",
      "metadata": {
        "id": "yN7PZZizFoh2"
      },
      "source": [
        "# 分割数据，将25%的数据作为测试集，其余作为训练集\n",
        "train_x, test_x, train_y, test_y = train_test_split(data, digits.target, test_size=0.25, random_state=33)"
      ],
      "execution_count": 9,
      "outputs": []
    },
    {
      "cell_type": "code",
      "metadata": {
        "id": "0jRnvm16FrP1"
      },
      "source": [
        "# 采用Z-Score规范化\n",
        "ss = preprocessing.StandardScaler()\n",
        "train_ss_x = ss.fit_transform(train_x)\n",
        "test_ss_x = ss.transform(test_x)"
      ],
      "execution_count": 10,
      "outputs": []
    },
    {
      "cell_type": "code",
      "metadata": {
        "colab": {
          "base_uri": "https://localhost:8080/"
        },
        "id": "J8yJuL1qFvW6",
        "outputId": "147285ae-3fdd-4aa4-f651-9657158ecff4"
      },
      "source": [
        "# 创建LR分类器\n",
        "lr = LogisticRegression()\n",
        "lr.fit(train_ss_x, train_y)\n",
        "predict_y=lr.predict(test_ss_x)\n",
        "print('LR准确率: %0.4lf' % accuracy_score(predict_y, test_y))"
      ],
      "execution_count": 11,
      "outputs": [
        {
          "output_type": "stream",
          "text": [
            "LR准确率: 0.9644\n"
          ],
          "name": "stdout"
        }
      ]
    },
    {
      "cell_type": "code",
      "metadata": {
        "id": "vf8Ih8phBAOS"
      },
      "source": [
        "# -*- coding: utf-8 -*-\n",
        "# 使用多种分类器进行MNIST手写数字分类\n",
        "from sklearn.model_selection import train_test_split\n",
        "from sklearn import preprocessing\n",
        "from sklearn.metrics import accuracy_score\n",
        "from sklearn.datasets import load_digits\n",
        "from sklearn import svm #SVM\n",
        "from sklearn.linear_model import LogisticRegression #逻辑回归\n",
        "from sklearn.tree import DecisionTreeClassifier #决策树\n",
        "from sklearn.naive_bayes import GaussianNB, MultinomialNB, BernoulliNB #高斯朴素贝叶斯 GaussianNB/MultinomialNB/BernoulliNB\n",
        "from sklearn.neighbors import KNeighborsClassifier #KNN\n",
        "from sklearn.ensemble import  AdaBoostClassifier #AdaBoost\n",
        "from xgboost import XGBClassifier #XGBoost\n",
        "from sklearn.discriminant_analysis import LinearDiscriminantAnalysis  \n",
        "import matplotlib.pyplot as plt"
      ],
      "execution_count": 7,
      "outputs": []
    },
    {
      "cell_type": "code",
      "metadata": {
        "colab": {
          "base_uri": "https://localhost:8080/"
        },
        "id": "y3_dQFNmBDf7",
        "outputId": "fb9fdabe-e55e-483b-83ff-1baf614b5cf7"
      },
      "source": [
        "# 创建线性 CART决策树分类器\n",
        "model = DecisionTreeClassifier()\n",
        "model.fit(train_ss_x,train_y)\n",
        "predict_y=model.predict(test_ss_x)\n",
        "print('CART决策树准确率: %0.4lf' %accuracy_score(predict_y,test_y))"
      ],
      "execution_count": 12,
      "outputs": [
        {
          "output_type": "stream",
          "text": [
            "CART决策树准确率: 0.8622\n"
          ],
          "name": "stdout"
        }
      ]
    },
    {
      "cell_type": "code",
      "metadata": {
        "colab": {
          "base_uri": "https://localhost:8080/"
        },
        "id": "hls_Ac7gBZgb",
        "outputId": "9ac02131-167c-4015-d6de-9ffb6bd71536"
      },
      "source": [
        "# 创建LDA分类器\n",
        "model = LinearDiscriminantAnalysis(n_components=2)\n",
        "model.fit(train_ss_x,train_y)\n",
        "predict_y=model.predict(test_ss_x)\n",
        "print('LDA准确率: %0.4lf' %accuracy_score(predict_y,test_y))"
      ],
      "execution_count": 13,
      "outputs": [
        {
          "output_type": "stream",
          "text": [
            "LDA准确率: 0.9378\n"
          ],
          "name": "stdout"
        }
      ]
    },
    {
      "cell_type": "code",
      "metadata": {
        "colab": {
          "base_uri": "https://localhost:8080/"
        },
        "id": "BF6oBoIBBcBr",
        "outputId": "c21283c4-f1ad-4f53-81a6-385949d9a678"
      },
      "source": [
        "# 创建贝叶斯分类器\n",
        "model = GaussianNB()\n",
        "model.fit(train_x,train_y)\n",
        "predict_y=model.predict(test_x)\n",
        "print('朴素贝叶斯准确率: %0.4lf' %accuracy_score(predict_y,test_y))"
      ],
      "execution_count": 14,
      "outputs": [
        {
          "output_type": "stream",
          "text": [
            "朴素贝叶斯准确率: 0.8311\n"
          ],
          "name": "stdout"
        }
      ]
    },
    {
      "cell_type": "code",
      "metadata": {
        "colab": {
          "base_uri": "https://localhost:8080/"
        },
        "id": "bs3Rm4TeBeDy",
        "outputId": "0de261ba-96e4-4729-d05e-11103fc6e949"
      },
      "source": [
        "# 创建SVM分类器\n",
        "model = svm.SVC(kernel='rbf', C=1.0, gamma='auto')\n",
        "model.fit(train_ss_x,train_y)\n",
        "predict_y=model.predict(test_ss_x)\n",
        "print('SVM准确率: %0.4lf' %accuracy_score(predict_y,test_y))"
      ],
      "execution_count": 15,
      "outputs": [
        {
          "output_type": "stream",
          "text": [
            "SVM准确率: 0.9867\n"
          ],
          "name": "stdout"
        }
      ]
    },
    {
      "cell_type": "code",
      "metadata": {
        "colab": {
          "base_uri": "https://localhost:8080/"
        },
        "id": "RzQmURcYBfwj",
        "outputId": "4bd96569-b173-47b0-dbbc-23d53ac9d815"
      },
      "source": [
        "# 创建KNN分类器\n",
        "model = KNeighborsClassifier()\n",
        "model.fit(train_ss_x,train_y)\n",
        "predict_y=model.predict(test_ss_x)\n",
        "print('KNN准确率: %0.4lf' %accuracy_score(predict_y,test_y))"
      ],
      "execution_count": 16,
      "outputs": [
        {
          "output_type": "stream",
          "text": [
            "KNN准确率: 0.9756\n"
          ],
          "name": "stdout"
        }
      ]
    },
    {
      "cell_type": "code",
      "metadata": {
        "colab": {
          "base_uri": "https://localhost:8080/"
        },
        "id": "CyU4v74qBheB",
        "outputId": "60013e15-1551-49f8-822f-96f126baa384"
      },
      "source": [
        "# 创建AdaBoost分类器\n",
        "# 弱分类器\n",
        "dt_stump = DecisionTreeClassifier(max_depth=5,min_samples_leaf=1)\n",
        "dt_stump.fit(train_ss_x, train_y)\n",
        "#dt_stump_err = 1.0-dt_stump.score(test_x, test_y)\n",
        "# 设置AdaBoost迭代次数\n",
        "n_estimators=500\n",
        "model = AdaBoostClassifier(base_estimator=dt_stump,n_estimators=n_estimators)\n",
        "model.fit(train_ss_x,train_y)\n",
        "predict_y=model.predict(test_ss_x)\n",
        "print('AdaBoost准确率: %0.4lf' %accuracy_score(predict_y,test_y))"
      ],
      "execution_count": 17,
      "outputs": [
        {
          "output_type": "stream",
          "text": [
            "AdaBoost准确率: 0.9622\n"
          ],
          "name": "stdout"
        }
      ]
    },
    {
      "cell_type": "code",
      "metadata": {
        "colab": {
          "base_uri": "https://localhost:8080/"
        },
        "id": "LEQL5MSyBjtK",
        "outputId": "8065cdcd-0d68-4666-a055-9723e9677ada"
      },
      "source": [
        "# 创建XGBoost分类器\n",
        "model = XGBClassifier()\n",
        "model.fit(train_ss_x,train_y)\n",
        "predict_y=model.predict(test_ss_x)\n",
        "print('XGBoost准确率: %0.4lf' %accuracy_score(predict_y,test_y))"
      ],
      "execution_count": 18,
      "outputs": [
        {
          "output_type": "stream",
          "text": [
            "XGBoost准确率: 0.9489\n"
          ],
          "name": "stdout"
        }
      ]
    },
    {
      "cell_type": "code",
      "metadata": {
        "colab": {
          "base_uri": "https://localhost:8080/",
          "height": 726
        },
        "id": "eVYukLbsCvaO",
        "outputId": "3b87a093-fdee-41b5-e314-0c5b10343014"
      },
      "source": [
        "pip install tpot"
      ],
      "execution_count": 20,
      "outputs": [
        {
          "output_type": "stream",
          "text": [
            "Collecting tpot\n",
            "\u001b[?25l  Downloading https://files.pythonhosted.org/packages/b2/55/a7185198f554ea19758e5ac4641f100c94cba4585e738e2e48e3c40a0b7f/TPOT-0.11.7-py3-none-any.whl (87kB)\n",
            "\r\u001b[K     |███▊                            | 10kB 14.1MB/s eta 0:00:01\r\u001b[K     |███████▌                        | 20kB 9.1MB/s eta 0:00:01\r\u001b[K     |███████████▎                    | 30kB 7.8MB/s eta 0:00:01\r\u001b[K     |███████████████                 | 40kB 7.5MB/s eta 0:00:01\r\u001b[K     |██████████████████▉             | 51kB 4.2MB/s eta 0:00:01\r\u001b[K     |██████████████████████▋         | 61kB 4.4MB/s eta 0:00:01\r\u001b[K     |██████████████████████████▎     | 71kB 4.9MB/s eta 0:00:01\r\u001b[K     |██████████████████████████████  | 81kB 5.1MB/s eta 0:00:01\r\u001b[K     |████████████████████████████████| 92kB 3.8MB/s \n",
            "\u001b[?25hRequirement already satisfied: scikit-learn>=0.22.0 in /usr/local/lib/python3.7/dist-packages (from tpot) (0.22.2.post1)\n",
            "Requirement already satisfied: scipy>=1.3.1 in /usr/local/lib/python3.7/dist-packages (from tpot) (1.4.1)\n",
            "Requirement already satisfied: numpy>=1.16.3 in /usr/local/lib/python3.7/dist-packages (from tpot) (1.19.5)\n",
            "Collecting deap>=1.2\n",
            "\u001b[?25l  Downloading https://files.pythonhosted.org/packages/99/d1/803c7a387d8a7e6866160b1541307f88d534da4291572fb32f69d2548afb/deap-1.3.1-cp37-cp37m-manylinux2010_x86_64.whl (157kB)\n",
            "\u001b[K     |████████████████████████████████| 163kB 29.2MB/s \n",
            "\u001b[?25hRequirement already satisfied: pandas>=0.24.2 in /usr/local/lib/python3.7/dist-packages (from tpot) (1.1.5)\n",
            "Requirement already satisfied: joblib>=0.13.2 in /usr/local/lib/python3.7/dist-packages (from tpot) (1.0.1)\n",
            "Collecting update-checker>=0.16\n",
            "  Downloading https://files.pythonhosted.org/packages/0c/ba/8dd7fa5f0b1c6a8ac62f8f57f7e794160c1f86f31c6d0fb00f582372a3e4/update_checker-0.18.0-py3-none-any.whl\n",
            "Collecting xgboost>=1.1.0\n",
            "\u001b[?25l  Downloading https://files.pythonhosted.org/packages/bb/35/169eec194bf1f9ef52ed670f5032ef2abaf6ed285cfadcb4b6026b800fc9/xgboost-1.4.2-py3-none-manylinux2010_x86_64.whl (166.7MB)\n",
            "\u001b[K     |████████████████████████████████| 166.7MB 99kB/s \n",
            "\u001b[?25hCollecting stopit>=1.1.1\n",
            "  Downloading https://files.pythonhosted.org/packages/35/58/e8bb0b0fb05baf07bbac1450c447d753da65f9701f551dca79823ce15d50/stopit-1.1.2.tar.gz\n",
            "Requirement already satisfied: tqdm>=4.36.1 in /usr/local/lib/python3.7/dist-packages (from tpot) (4.41.1)\n",
            "Requirement already satisfied: pytz>=2017.2 in /usr/local/lib/python3.7/dist-packages (from pandas>=0.24.2->tpot) (2018.9)\n",
            "Requirement already satisfied: python-dateutil>=2.7.3 in /usr/local/lib/python3.7/dist-packages (from pandas>=0.24.2->tpot) (2.8.1)\n",
            "Requirement already satisfied: requests>=2.3.0 in /usr/local/lib/python3.7/dist-packages (from update-checker>=0.16->tpot) (2.23.0)\n",
            "Requirement already satisfied: six>=1.5 in /usr/local/lib/python3.7/dist-packages (from python-dateutil>=2.7.3->pandas>=0.24.2->tpot) (1.15.0)\n",
            "Requirement already satisfied: idna<3,>=2.5 in /usr/local/lib/python3.7/dist-packages (from requests>=2.3.0->update-checker>=0.16->tpot) (2.10)\n",
            "Requirement already satisfied: certifi>=2017.4.17 in /usr/local/lib/python3.7/dist-packages (from requests>=2.3.0->update-checker>=0.16->tpot) (2021.5.30)\n",
            "Requirement already satisfied: urllib3!=1.25.0,!=1.25.1,<1.26,>=1.21.1 in /usr/local/lib/python3.7/dist-packages (from requests>=2.3.0->update-checker>=0.16->tpot) (1.24.3)\n",
            "Requirement already satisfied: chardet<4,>=3.0.2 in /usr/local/lib/python3.7/dist-packages (from requests>=2.3.0->update-checker>=0.16->tpot) (3.0.4)\n",
            "Building wheels for collected packages: stopit\n",
            "  Building wheel for stopit (setup.py) ... \u001b[?25l\u001b[?25hdone\n",
            "  Created wheel for stopit: filename=stopit-1.1.2-cp37-none-any.whl size=11954 sha256=9f8a28ace43e5f1d390a539fa8fea42297db80f8abecdd16900e7450414b099d\n",
            "  Stored in directory: /root/.cache/pip/wheels/3c/85/2b/2580190404636bfc63e8de3dff629c03bb795021e1983a6cc7\n",
            "Successfully built stopit\n",
            "Installing collected packages: deap, update-checker, xgboost, stopit, tpot\n",
            "  Found existing installation: xgboost 0.90\n",
            "    Uninstalling xgboost-0.90:\n",
            "      Successfully uninstalled xgboost-0.90\n",
            "Successfully installed deap-1.3.1 stopit-1.1.2 tpot-0.11.7 update-checker-0.18.0 xgboost-1.4.2\n"
          ],
          "name": "stdout"
        },
        {
          "output_type": "display_data",
          "data": {
            "application/vnd.colab-display-data+json": {
              "pip_warning": {
                "packages": [
                  "xgboost"
                ]
              }
            }
          },
          "metadata": {
            "tags": []
          }
        }
      ]
    },
    {
      "cell_type": "markdown",
      "metadata": {
        "id": "hQue1meDEFvF"
      },
      "source": [
        "**使用TPOT自动机器学习工具对MNIST进行分类**"
      ]
    },
    {
      "cell_type": "code",
      "metadata": {
        "colab": {
          "base_uri": "https://localhost:8080/"
        },
        "id": "UxWzd2LGDK_K",
        "outputId": "b7e059ca-26e6-4f03-e53a-61f1be7c16fd"
      },
      "source": [
        "# 使用TPOT自动机器学习工具对MNIST进行分类\n",
        "from tpot import TPOTClassifier\n",
        "from sklearn.datasets import load_digits\n",
        "from sklearn.model_selection import train_test_split\n",
        "import numpy as np"
      ],
      "execution_count": 1,
      "outputs": [
        {
          "output_type": "stream",
          "text": [
            "/usr/local/lib/python3.7/dist-packages/sklearn/externals/six.py:31: FutureWarning: The module is deprecated in version 0.21 and will be removed in version 0.23 since we've dropped support for Python 2.7. Please rely on the official version of six (https://pypi.org/project/six/).\n",
            "  \"(https://pypi.org/project/six/).\", FutureWarning)\n",
            "/usr/local/lib/python3.7/dist-packages/sklearn/utils/deprecation.py:144: FutureWarning: The sklearn.neighbors.base module is  deprecated in version 0.22 and will be removed in version 0.24. The corresponding classes / functions should instead be imported from sklearn.neighbors. Anything that cannot be imported from sklearn.neighbors is now part of the private API.\n",
            "  warnings.warn(message, FutureWarning)\n"
          ],
          "name": "stderr"
        }
      ]
    },
    {
      "cell_type": "code",
      "metadata": {
        "colab": {
          "base_uri": "https://localhost:8080/",
          "height": 272,
          "referenced_widgets": [
            "34a63f0174024004ae5d4f15f8858b0f",
            "e43d7fb3529c49e9ba845e36b2ab37e2",
            "7c0f61bb6a5543ad9344aea94859ccd7",
            "7855133ac1b3430fb75bfe9f71f8bc2c",
            "bb1691439acf43cb9a064070a994c315",
            "f7077285af1546f8a518792ecaa4998c",
            "8e5550d8c3a94a31a5cfd576fa14ff12",
            "9dbb58ebc74c428faa864b711513324b"
          ]
        },
        "id": "-INKSw0SDQC6",
        "outputId": "da3de0e9-51c6-4a57-a312-5a8f742b9d99"
      },
      "source": [
        "# 加载数据\n",
        "digits = load_digits()\n",
        "data = digits.data\n",
        "print(digits.target)\n",
        "X_train, X_test, y_train, y_test = train_test_split(digits.data.astype(np.float64),\n",
        "    digits.target.astype(np.float64), train_size=0.75, test_size=0.25)\n",
        "\n",
        "tpot = TPOTClassifier(generations=5, population_size=20, verbosity=2)\n",
        "tpot.fit(X_train, y_train)\n",
        "print(tpot.score(X_test, y_test))\n",
        "tpot.export('tpot_mnist_pipeline.py')"
      ],
      "execution_count": 2,
      "outputs": [
        {
          "output_type": "stream",
          "text": [
            "[0 1 2 ... 8 9 8]\n"
          ],
          "name": "stdout"
        },
        {
          "output_type": "display_data",
          "data": {
            "application/vnd.jupyter.widget-view+json": {
              "model_id": "34a63f0174024004ae5d4f15f8858b0f",
              "version_minor": 0,
              "version_major": 2
            },
            "text/plain": [
              "HBox(children=(FloatProgress(value=0.0, description='Optimization Progress', max=120.0, style=ProgressStyle(de…"
            ]
          },
          "metadata": {
            "tags": []
          }
        },
        {
          "output_type": "stream",
          "text": [
            "\r\n",
            "Generation 1 - Current best internal CV score: 0.9584441690761393\n",
            "\n",
            "Generation 2 - Current best internal CV score: 0.9584441690761393\n",
            "\n",
            "Generation 3 - Current best internal CV score: 0.9584441690761393\n",
            "\n",
            "Generation 4 - Current best internal CV score: 0.9807076965441277\n",
            "\n",
            "Generation 5 - Current best internal CV score: 0.9814511909679196\n",
            "\n",
            "Best pipeline: KNeighborsClassifier(GradientBoostingClassifier(input_matrix, learning_rate=0.5, max_depth=3, max_features=0.6000000000000001, min_samples_leaf=1, min_samples_split=11, n_estimators=100, subsample=0.45), n_neighbors=4, p=1, weights=distance)\n",
            "0.9866666666666667\n"
          ],
          "name": "stdout"
        }
      ]
    }
  ]
}