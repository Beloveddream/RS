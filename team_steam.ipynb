{
  "nbformat": 4,
  "nbformat_minor": 0,
  "metadata": {
    "colab": {
      "name": "team_steam.ipynb",
      "provenance": [],
      "authorship_tag": "ABX9TyM90odE15ZtUBxj7nQG8lrx",
      "include_colab_link": true
    },
    "kernelspec": {
      "name": "python3",
      "display_name": "Python 3"
    },
    "language_info": {
      "name": "python"
    }
  },
  "cells": [
    {
      "cell_type": "markdown",
      "metadata": {
        "id": "view-in-github",
        "colab_type": "text"
      },
      "source": [
        "<a href=\"https://colab.research.google.com/github/Beloveddream/RS/blob/main/team_steam.ipynb\" target=\"_parent\"><img src=\"https://colab.research.google.com/assets/colab-badge.svg\" alt=\"Open In Colab\"/></a>"
      ]
    },
    {
      "cell_type": "code",
      "metadata": {
        "colab": {
          "base_uri": "https://localhost:8080/"
        },
        "id": "i1_Lv2WWLuVW",
        "outputId": "310cc346-ed62-47f6-d12b-0d33d73bf539"
      },
      "source": [
        "from google.colab import drive\n",
        "drive.mount('/content/gdrive')"
      ],
      "execution_count": 1,
      "outputs": [
        {
          "output_type": "stream",
          "text": [
            "Mounted at /content/gdrive\n"
          ],
          "name": "stdout"
        }
      ]
    },
    {
      "cell_type": "markdown",
      "metadata": {
        "id": "n9aPQN4fQnqB"
      },
      "source": [
        "**team_cluster**"
      ]
    },
    {
      "cell_type": "code",
      "metadata": {
        "id": "05F4FwRaLQ19"
      },
      "source": [
        "# coding: utf-8\n",
        "from sklearn.cluster import KMeans\n",
        "from sklearn import preprocessing\n",
        "import pandas as pd\n",
        "import numpy as np"
      ],
      "execution_count": 2,
      "outputs": []
    },
    {
      "cell_type": "code",
      "metadata": {
        "colab": {
          "base_uri": "https://localhost:8080/"
        },
        "id": "MI70RprxLTtK",
        "outputId": "825bc988-1fd6-49b3-cb6d-210dd211ed95"
      },
      "source": [
        "# 数据加载\n",
        "data = pd.read_csv('/content/gdrive/My Drive/les1/team/team_cluster_data.csv', encoding='gbk')\n",
        "train_x = data[[\"2019国际排名\",\"2018世界杯排名\",\"2015亚洲杯排名\"]]\n",
        "kmeans = KMeans(n_clusters=3)\n",
        "# 规范化到 [0,1] 空间\n",
        "min_max_scaler=preprocessing.MinMaxScaler()\n",
        "train_x=min_max_scaler.fit_transform(train_x)\n",
        "print(train_x)"
      ],
      "execution_count": 5,
      "outputs": [
        {
          "output_type": "stream",
          "text": [
            "[[0.3        0.71428571 0.375     ]\n",
            " [0.2        0.         0.25      ]\n",
            " [0.20769231 0.11428571 0.0625    ]\n",
            " [0.         0.08571429 0.3125    ]\n",
            " [0.25384615 0.31428571 0.5625    ]\n",
            " [0.43846154 0.71428571 0.1875    ]\n",
            " [0.51538462 0.71428571 0.75      ]\n",
            " [0.36153846 0.71428571 0.3125    ]\n",
            " [0.41538462 0.71428571 0.4375    ]\n",
            " [0.67692308 0.71428571 1.        ]\n",
            " [0.52307692 1.         1.        ]\n",
            " [0.40769231 1.         0.6875    ]\n",
            " [0.58461538 1.         0.8125    ]\n",
            " [1.         1.         1.        ]\n",
            " [0.04615385 0.42857143 0.        ]\n",
            " [0.32307692 0.71428571 1.        ]\n",
            " [0.64615385 1.         0.5       ]\n",
            " [0.96923077 1.         0.875     ]]\n"
          ],
          "name": "stdout"
        }
      ]
    },
    {
      "cell_type": "code",
      "metadata": {
        "colab": {
          "base_uri": "https://localhost:8080/"
        },
        "id": "8rgDBbbILeSb",
        "outputId": "206aa126-1f5e-41f5-ffd4-38083e1abd18"
      },
      "source": [
        "# kmeans 算法\n",
        "kmeans.fit(train_x)\n",
        "predict_y = kmeans.predict(train_x)\n",
        "# 合并聚类结果，插入到原数据中\n",
        "result = pd.concat((data,pd.DataFrame(predict_y)),axis=1)\n",
        "result.rename({0:u'聚类结果'},axis=1,inplace=True)\n",
        "print(result)\n",
        "#将结果导出到CSV文件中\n",
        "#result.to_csv(\"team_cluster_result.csv\")"
      ],
      "execution_count": 6,
      "outputs": [
        {
          "output_type": "stream",
          "text": [
            "        国家  2019国际排名  2018世界杯排名  2015亚洲杯排名  聚类结果\n",
            "0       中国        73         40          7     0\n",
            "1       日本        60         15          5     2\n",
            "2       韩国        61         19          2     2\n",
            "3       伊朗        34         18          6     2\n",
            "4       沙特        67         26         10     2\n",
            "5      伊拉克        91         40          4     0\n",
            "6      卡塔尔       101         40         13     1\n",
            "7      阿联酋        81         40          6     0\n",
            "8   乌兹别克斯坦        88         40          8     0\n",
            "9       泰国       122         40         17     1\n",
            "10      越南       102         50         17     1\n",
            "11      阿曼        87         50         12     1\n",
            "12      朝鲜       110         50         14     1\n",
            "13      印尼       164         50         17     1\n",
            "14      澳洲        40         30          1     2\n",
            "15     叙利亚        76         40         17     1\n",
            "16      约旦       118         50          9     0\n",
            "17     科威特       160         50         15     1\n"
          ],
          "name": "stdout"
        }
      ]
    },
    {
      "cell_type": "code",
      "metadata": {
        "id": "uHw-krluQxrG"
      },
      "source": [
        "import numpy as np \n",
        "import pandas as pd \n",
        "import random"
      ],
      "execution_count": 7,
      "outputs": []
    },
    {
      "cell_type": "code",
      "metadata": {
        "colab": {
          "base_uri": "https://localhost:8080/"
        },
        "id": "fnpqVb-sQ07e",
        "outputId": "478430ff-4774-4388-a47a-12c00a561ac7"
      },
      "source": [
        "path = '/content/gdrive/My Drive/les1/steam/steam-200k.csv'\n",
        "df = pd.read_csv(path, header = None, names = ['UserID', 'Game', 'Action', 'Hours', 'Not Needed'])\n",
        "# 数据探索\n",
        "print('显示前5条数据')\n",
        "print(df.head())\n",
        "print('显示数据大小')\n",
        "print(df.shape)\n",
        "# 创建Hours_Played字段，替代原有的Action和Hours，0表示仅购买，大于0表示购买且游戏时长\n",
        "df['Hours_Played'] = df['Hours'].astype('float32')\n",
        "# 如果字段Action=purchase，并且Hours=1.0，将设置Hours_Played=0\n",
        "df.loc[(df['Action'] == 'purchase') & (df['Hours'] == 1.0), 'Hours_Played'] = 0\n",
        "print(df['Hours_Played'])\n",
        "print('增加了Hours_Played字段后，数据大小')\n",
        "print(df.shape)"
      ],
      "execution_count": 9,
      "outputs": [
        {
          "output_type": "stream",
          "text": [
            "显示前5条数据\n",
            "      UserID                        Game    Action  Hours  Not Needed\n",
            "0  151603712  The Elder Scrolls V Skyrim  purchase    1.0           0\n",
            "1  151603712  The Elder Scrolls V Skyrim      play  273.0           0\n",
            "2  151603712                   Fallout 4  purchase    1.0           0\n",
            "3  151603712                   Fallout 4      play   87.0           0\n",
            "4  151603712                       Spore  purchase    1.0           0\n",
            "显示数据大小\n",
            "(200000, 5)\n",
            "0           0.0\n",
            "1         273.0\n",
            "2           0.0\n",
            "3          87.0\n",
            "4           0.0\n",
            "          ...  \n",
            "199995      1.5\n",
            "199996      0.0\n",
            "199997      1.5\n",
            "199998      0.0\n",
            "199999      1.4\n",
            "Name: Hours_Played, Length: 200000, dtype: float32\n",
            "增加了Hours_Played字段后，数据大小\n",
            "(200000, 6)\n"
          ],
          "name": "stdout"
        }
      ]
    },
    {
      "cell_type": "code",
      "metadata": {
        "colab": {
          "base_uri": "https://localhost:8080/"
        },
        "id": "-yCsZCEEQ4s5",
        "outputId": "9c1ebcef-aaa4-40eb-dac6-51b5a6e8a060"
      },
      "source": [
        "# 对数据从小到大进行排序, df下标也会发生变化\n",
        "df.UserID = df.UserID.astype('int')\n",
        "df = df.sort_values(['UserID', 'Game', 'Hours_Played'], ascending=True)\n",
        "\n",
        "# 删除重复项，并保留最后一项出现的项（因为最后一项是用户游戏时间，第一项为购买）\n",
        "clean_df = df.drop_duplicates(['UserID', 'Game'], keep = 'last')\n",
        "# 去掉不用的列：Action, Hours, Not Needed\n",
        "clean_df = clean_df.drop(['Action', 'Hours', 'Not Needed'], axis = 1)\n",
        "print('删除重复项后的数据集：')\n",
        "print(clean_df)\n",
        "print(clean_df.head(0))\n",
        "\n",
        "# 探索下数据集的特征\n",
        "n_users = len(clean_df.UserID.unique())\n",
        "n_games = len(clean_df.Game.unique())\n",
        "print('数据集中包含了 {0} 玩家，{1} 游戏'.format(n_users, n_games))\n",
        "\n",
        "# 矩阵的稀疏性\n",
        "sparsity = clean_df.shape[0] / float(n_users * n_games)\n",
        "print('用户行为矩阵的稀疏性（填充比例）为{:.2%} '.format(sparsity))"
      ],
      "execution_count": 10,
      "outputs": [
        {
          "output_type": "stream",
          "text": [
            "删除重复项后的数据集：\n",
            "           UserID                          Game  Hours_Played\n",
            "65430        5250                   Alien Swarm           4.9\n",
            "65424        5250               Cities Skylines         144.0\n",
            "65435        5250                Counter-Strike           0.0\n",
            "65436        5250         Counter-Strike Source           0.0\n",
            "65437        5250                 Day of Defeat           0.0\n",
            "...           ...                           ...           ...\n",
            "18803   309626088  Age of Empires II HD Edition           6.7\n",
            "170024  309812026  Counter-Strike Nexon Zombies           0.0\n",
            "170025  309812026                     Robocraft           0.0\n",
            "10222   309824202                        Dota 2           0.7\n",
            "129085  309903146                        Dota 2           0.2\n",
            "\n",
            "[128804 rows x 3 columns]\n",
            "Empty DataFrame\n",
            "Columns: [UserID, Game, Hours_Played]\n",
            "Index: []\n",
            "数据集中包含了 12393 玩家，5155 游戏\n",
            "用户行为矩阵的稀疏性（填充比例）为0.20% \n"
          ],
          "name": "stdout"
        }
      ]
    }
  ]
}